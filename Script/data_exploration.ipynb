{
 "cells": [
  {
   "cell_type": "raw",
   "metadata": {},
   "source": [
    "Goal of this script : Understand the construction of the data"
   ]
  },
  {
   "cell_type": "code",
   "execution_count": 27,
   "metadata": {},
   "outputs": [],
   "source": [
    "import os\n",
    "import numpy as np\n",
    "import pandas as pd\n",
    "import matplotlib.pyplot as plt\n",
    "import librosa\n",
    "import librosa.display"
   ]
  },
  {
   "cell_type": "markdown",
   "metadata": {},
   "source": [
    "# 1. Data import"
   ]
  },
  {
   "cell_type": "code",
   "execution_count": 11,
   "metadata": {},
   "outputs": [
    {
     "name": "stdout",
     "output_type": "stream",
     "text": [
      "D:\\Travail\\Centrale\\Projet\\Data\n"
     ]
    }
   ],
   "source": [
    "os.getcwd()\n",
    "os.chdir(\"../Data\")\n",
    "print(os.getcwd())"
   ]
  },
  {
   "cell_type": "code",
   "execution_count": 12,
   "metadata": {},
   "outputs": [],
   "source": [
    "data_path = \"commonvoice_example\""
   ]
  },
  {
   "cell_type": "code",
   "execution_count": 13,
   "metadata": {
    "scrolled": true
   },
   "outputs": [
    {
     "name": "stdout",
     "output_type": "stream",
     "text": [
      " Le volume dans le lecteur D s'appelle WindowsDrive\n",
      " Le num‚ro de s‚rie du volume est B229-5CDC\n",
      "\n",
      " R‚pertoire de D:\\Travail\\Centrale\\Projet\\Data\\commonvoice_example\n",
      "\n",
      "19/11/2020  15:19    <DIR>          .\n",
      "19/11/2020  15:19    <DIR>          ..\n",
      "22/03/2020  00:17            32ÿ058 common_voice_en_62600_0.wav\n",
      "22/03/2020  00:20            32ÿ058 common_voice_en_62600_14.wav\n",
      "22/03/2020  00:19            32ÿ058 common_voice_en_62600_2.wav\n",
      "22/03/2020  00:34            32ÿ058 common_voice_en_62600_4.wav\n",
      "19/11/2020  14:23        55ÿ473ÿ765 labels.tsv\n",
      "               5 fichier(s)       55ÿ601ÿ997 octets\n",
      "               2 R‚p(s)  303ÿ963ÿ660ÿ288 octets libres\n"
     ]
    }
   ],
   "source": [
    "!dir $data_path"
   ]
  },
  {
   "cell_type": "code",
   "execution_count": 14,
   "metadata": {},
   "outputs": [],
   "source": [
    "file = \"common_voice_en_62600_14.wav\""
   ]
  },
  {
   "cell_type": "code",
   "execution_count": 15,
   "metadata": {},
   "outputs": [],
   "source": [
    "data, samplerate = librosa.load(data_path+os.sep + file) #tuple : 1rst elem = numpy array, 2nd elem = sample freq "
   ]
  },
  {
   "cell_type": "code",
   "execution_count": 19,
   "metadata": {},
   "outputs": [],
   "source": [
    "labels = pd.read_csv(data_path+os.sep+'labels.tsv',sep=\"\\t\").drop(columns= \"Unnamed: 0\")"
   ]
  },
  {
   "cell_type": "markdown",
   "metadata": {},
   "source": [
    "# 2. Format of the data"
   ]
  },
  {
   "cell_type": "code",
   "execution_count": 20,
   "metadata": {},
   "outputs": [
    {
     "data": {
      "text/plain": [
       "array([ 2.1125017e-15, -2.0042771e-11, -7.6854148e-11, ...,\n",
       "        8.1792351e-08, -5.8857734e-07, -7.2443328e-07], dtype=float32)"
      ]
     },
     "metadata": {},
     "output_type": "display_data"
    }
   ],
   "source": [
    "display(data) #array of our signal"
   ]
  },
  {
   "cell_type": "code",
   "execution_count": 21,
   "metadata": {},
   "outputs": [
    {
     "data": {
      "text/plain": [
       "<simpleaudio.shiny.PlayObject at 0x223d00d2e80>"
      ]
     },
     "execution_count": 21,
     "metadata": {},
     "output_type": "execute_result"
    }
   ],
   "source": [
    "#to play the sound file\n",
    "import simpleaudio as sa\n",
    "sa.play_buffer(data.astype(np.int16),1,2,samplerate)"
   ]
  },
  {
   "cell_type": "code",
   "execution_count": 22,
   "metadata": {
    "scrolled": true
   },
   "outputs": [
    {
     "data": {
      "text/plain": [
       "Text(0.5, 1.0, 'Fourier Tranformation of the signal (dB)')"
      ]
     },
     "execution_count": 22,
     "metadata": {},
     "output_type": "execute_result"
    },
    {
     "data": {
      "image/png": "[encoded data removed]",
      "text/plain": [
       "<Figure size 432x288 with 2 Axes>"
      ]
     },
     "metadata": {
      "needs_background": "light"
     },
     "output_type": "display_data"
    }
   ],
   "source": [
    "# plot of the fourier transform\n",
    "fourier = librosa.stft(data)\n",
    "fourier_db = librosa.amplitude_to_db(np.abs(fourier), ref=np.max)\n",
    "\n",
    "plt.figure()\n",
    "librosa.display.specshow(fourier_db, x_axis='time', y_axis='linear')\n",
    "plt.colorbar()\n",
    "plt.title(\"Fourier Tranformation of the signal (dB)\")"
   ]
  },
  {
   "cell_type": "code",
   "execution_count": 23,
   "metadata": {},
   "outputs": [
    {
     "name": "stdout",
     "output_type": "stream",
     "text": [
      "common_voice_en_62600_14\n"
     ]
    },
    {
     "data": {
      "text/html": [
       "<div>\n",
       "<style scoped>\n",
       "    .dataframe tbody tr th:only-of-type {\n",
       "        vertical-align: middle;\n",
       "    }\n",
       "\n",
       "    .dataframe tbody tr th {\n",
       "        vertical-align: top;\n",
       "    }\n",
       "\n",
       "    .dataframe thead th {\n",
       "        text-align: right;\n",
       "    }\n",
       "</style>\n",
       "<table border=\"1\" class=\"dataframe\">\n",
       "  <thead>\n",
       "    <tr style=\"text-align: right;\">\n",
       "      <th></th>\n",
       "      <th>Unnamed: 0.1</th>\n",
       "      <th>age</th>\n",
       "      <th>gender</th>\n",
       "      <th>accent</th>\n",
       "      <th>original_sentence</th>\n",
       "      <th>sentence</th>\n",
       "      <th>client_id</th>\n",
       "      <th>sound_id</th>\n",
       "      <th>intervals</th>\n",
       "    </tr>\n",
       "  </thead>\n",
       "  <tbody>\n",
       "    <tr>\n",
       "      <th>29814</th>\n",
       "      <td>2523296</td>\n",
       "      <td>thirties</td>\n",
       "      <td>male</td>\n",
       "      <td>us</td>\n",
       "      <td>A person on a blue bench under a blue blanket.</td>\n",
       "      <td>blanket person</td>\n",
       "      <td>0a0f10d1306657ff2506f99a92144d8f01895d0a66b6fe...</td>\n",
       "      <td>common_voice_en_62600_14</td>\n",
       "      <td>([(0.0, 0.020000000000000018, 'padding', ''), ...</td>\n",
       "    </tr>\n",
       "  </tbody>\n",
       "</table>\n",
       "</div>"
      ],
      "text/plain": [
       "       Unnamed: 0.1       age gender accent  \\\n",
       "29814       2523296  thirties   male     us   \n",
       "\n",
       "                                    original_sentence        sentence  \\\n",
       "29814  A person on a blue bench under a blue blanket.  blanket person   \n",
       "\n",
       "                                               client_id  \\\n",
       "29814  0a0f10d1306657ff2506f99a92144d8f01895d0a66b6fe...   \n",
       "\n",
       "                       sound_id  \\\n",
       "29814  common_voice_en_62600_14   \n",
       "\n",
       "                                               intervals  \n",
       "29814  ([(0.0, 0.020000000000000018, 'padding', ''), ...  "
      ]
     },
     "metadata": {},
     "output_type": "display_data"
    }
   ],
   "source": [
    "# get the according labels\n",
    "\n",
    "sound_id = file[:-4]\n",
    "print(sound_id) # sound_id, to relate to the labels\n",
    "\n",
    "display(labels.loc[labels['sound_id']==sound_id])"
   ]
  },
  {
   "cell_type": "markdown",
   "metadata": {},
   "source": [
    "# 3. Overview of labeling"
   ]
  },
  {
   "cell_type": "code",
   "execution_count": 24,
   "metadata": {},
   "outputs": [
    {
     "data": {
      "text/html": [
       "<div>\n",
       "<style scoped>\n",
       "    .dataframe tbody tr th:only-of-type {\n",
       "        vertical-align: middle;\n",
       "    }\n",
       "\n",
       "    .dataframe tbody tr th {\n",
       "        vertical-align: top;\n",
       "    }\n",
       "\n",
       "    .dataframe thead th {\n",
       "        text-align: right;\n",
       "    }\n",
       "</style>\n",
       "<table border=\"1\" class=\"dataframe\">\n",
       "  <thead>\n",
       "    <tr style=\"text-align: right;\">\n",
       "      <th></th>\n",
       "      <th>Unnamed: 0.1</th>\n",
       "      <th>age</th>\n",
       "      <th>gender</th>\n",
       "      <th>accent</th>\n",
       "      <th>original_sentence</th>\n",
       "      <th>sentence</th>\n",
       "      <th>client_id</th>\n",
       "      <th>sound_id</th>\n",
       "      <th>intervals</th>\n",
       "    </tr>\n",
       "  </thead>\n",
       "  <tbody>\n",
       "    <tr>\n",
       "      <th>0</th>\n",
       "      <td>75927</td>\n",
       "      <td>fourties</td>\n",
       "      <td>male</td>\n",
       "      <td>canada</td>\n",
       "      <td>The baronetcy is currently held by his grandso...</td>\n",
       "      <td>grandson john</td>\n",
       "      <td>eb005db5c7d0333c500a250c5a3551d95d93d62d4afbfc...</td>\n",
       "      <td>common_voice_en_18721929_34</td>\n",
       "      <td>([(0.0, 0.015000000000000124, 'padding', ''), ...</td>\n",
       "    </tr>\n",
       "    <tr>\n",
       "      <th>1</th>\n",
       "      <td>1478669</td>\n",
       "      <td>twenties</td>\n",
       "      <td>male</td>\n",
       "      <td>indian</td>\n",
       "      <td>Only one speaker survives in Nepal, an elderly...</td>\n",
       "      <td>only one speaker</td>\n",
       "      <td>3b502c26e0b05c4f38b556d6f666397e50cf2152bea373...</td>\n",
       "      <td>common_voice_en_18723654_8</td>\n",
       "      <td>([(0.0, 0.020000000000000018, 'padding', ''), ...</td>\n",
       "    </tr>\n",
       "    <tr>\n",
       "      <th>2</th>\n",
       "      <td>340793</td>\n",
       "      <td>sixties</td>\n",
       "      <td>male</td>\n",
       "      <td>us</td>\n",
       "      <td>I’m too happy; and yet I’m not happy enough.</td>\n",
       "      <td>enough and yet</td>\n",
       "      <td>953bbec74b68f4a24ca1c70200631938c6554133b64974...</td>\n",
       "      <td>common_voice_en_18548669_19</td>\n",
       "      <td>([(0.0, 0.025000000000000355, 'padding', ''), ...</td>\n",
       "    </tr>\n",
       "    <tr>\n",
       "      <th>3</th>\n",
       "      <td>129304</td>\n",
       "      <td>thirties</td>\n",
       "      <td>male</td>\n",
       "      <td>us</td>\n",
       "      <td>Over the next decade, the college added Africa...</td>\n",
       "      <td>college added african</td>\n",
       "      <td>a8ce1885a19d337fac4f60f2178f5f9f7d5b3c8e231437...</td>\n",
       "      <td>common_voice_en_18879914_4</td>\n",
       "      <td>([(0.0, 0.03500000000000014, 'padding', ''), (...</td>\n",
       "    </tr>\n",
       "    <tr>\n",
       "      <th>4</th>\n",
       "      <td>114978</td>\n",
       "      <td>twenties</td>\n",
       "      <td>male</td>\n",
       "      <td>us</td>\n",
       "      <td>During the American War of Independence the Go...</td>\n",
       "      <td>chester independence</td>\n",
       "      <td>97c8ac97359d907568354048899b57c3caa29bc4bce205...</td>\n",
       "      <td>common_voice_en_18843920_55</td>\n",
       "      <td>([(0.0, 0.019999999999999574, 'padding', ''), ...</td>\n",
       "    </tr>\n",
       "    <tr>\n",
       "      <th>...</th>\n",
       "      <td>...</td>\n",
       "      <td>...</td>\n",
       "      <td>...</td>\n",
       "      <td>...</td>\n",
       "      <td>...</td>\n",
       "      <td>...</td>\n",
       "      <td>...</td>\n",
       "      <td>...</td>\n",
       "      <td>...</td>\n",
       "    </tr>\n",
       "    <tr>\n",
       "      <th>83881</th>\n",
       "      <td>133676</td>\n",
       "      <td>twenties</td>\n",
       "      <td>female</td>\n",
       "      <td>us</td>\n",
       "      <td>\"The Star\" is better known as \"Twinkle Twinkle...</td>\n",
       "      <td>star better known as</td>\n",
       "      <td>fefdf541ed91b86082b064fe4b4de91161e654b7eb0aa5...</td>\n",
       "      <td>common_voice_en_18890858_23</td>\n",
       "      <td>([(0.0, 0.009999999999999787, 'padding', ''), ...</td>\n",
       "    </tr>\n",
       "    <tr>\n",
       "      <th>83882</th>\n",
       "      <td>133327</td>\n",
       "      <td>twenties</td>\n",
       "      <td>female</td>\n",
       "      <td>us</td>\n",
       "      <td>His works have been translated into fifteen la...</td>\n",
       "      <td>languages been translated</td>\n",
       "      <td>fefdf541ed91b86082b064fe4b4de91161e654b7eb0aa5...</td>\n",
       "      <td>common_voice_en_18890851_40</td>\n",
       "      <td>([(0.0, 0.009999999999999787, 'padding', ''), ...</td>\n",
       "    </tr>\n",
       "    <tr>\n",
       "      <th>83883</th>\n",
       "      <td>133682</td>\n",
       "      <td>twenties</td>\n",
       "      <td>female</td>\n",
       "      <td>us</td>\n",
       "      <td>\"The Star\" is better known as \"Twinkle Twinkle...</td>\n",
       "      <td>star as</td>\n",
       "      <td>fefdf541ed91b86082b064fe4b4de91161e654b7eb0aa5...</td>\n",
       "      <td>common_voice_en_18890858_29</td>\n",
       "      <td>([(0.0, 0.009999999999999787, 'padding', ''), ...</td>\n",
       "    </tr>\n",
       "    <tr>\n",
       "      <th>83884</th>\n",
       "      <td>133566</td>\n",
       "      <td>twenties</td>\n",
       "      <td>female</td>\n",
       "      <td>us</td>\n",
       "      <td>Featured animals include electric eel, chamber...</td>\n",
       "      <td>octopus</td>\n",
       "      <td>fefdf541ed91b86082b064fe4b4de91161e654b7eb0aa5...</td>\n",
       "      <td>common_voice_en_18890856_105</td>\n",
       "      <td>([(0.0, 0.06500000000000039, 'padding', ''), (...</td>\n",
       "    </tr>\n",
       "    <tr>\n",
       "      <th>83885</th>\n",
       "      <td>133378</td>\n",
       "      <td>twenties</td>\n",
       "      <td>female</td>\n",
       "      <td>us</td>\n",
       "      <td>He is the half brother of Broadway actress Kac...</td>\n",
       "      <td>sheik half</td>\n",
       "      <td>fefdf541ed91b86082b064fe4b4de91161e654b7eb0aa5...</td>\n",
       "      <td>common_voice_en_18890853_21</td>\n",
       "      <td>([(0.0, 0.040000000000000036, 'padding', ''), ...</td>\n",
       "    </tr>\n",
       "  </tbody>\n",
       "</table>\n",
       "<p>83886 rows × 9 columns</p>\n",
       "</div>"
      ],
      "text/plain": [
       "       Unnamed: 0.1       age  gender  accent  \\\n",
       "0             75927  fourties    male  canada   \n",
       "1           1478669  twenties    male  indian   \n",
       "2            340793   sixties    male      us   \n",
       "3            129304  thirties    male      us   \n",
       "4            114978  twenties    male      us   \n",
       "...             ...       ...     ...     ...   \n",
       "83881        133676  twenties  female      us   \n",
       "83882        133327  twenties  female      us   \n",
       "83883        133682  twenties  female      us   \n",
       "83884        133566  twenties  female      us   \n",
       "83885        133378  twenties  female      us   \n",
       "\n",
       "                                       original_sentence  \\\n",
       "0      The baronetcy is currently held by his grandso...   \n",
       "1      Only one speaker survives in Nepal, an elderly...   \n",
       "2           I’m too happy; and yet I’m not happy enough.   \n",
       "3      Over the next decade, the college added Africa...   \n",
       "4      During the American War of Independence the Go...   \n",
       "...                                                  ...   \n",
       "83881  \"The Star\" is better known as \"Twinkle Twinkle...   \n",
       "83882  His works have been translated into fifteen la...   \n",
       "83883  \"The Star\" is better known as \"Twinkle Twinkle...   \n",
       "83884  Featured animals include electric eel, chamber...   \n",
       "83885  He is the half brother of Broadway actress Kac...   \n",
       "\n",
       "                        sentence  \\\n",
       "0                  grandson john   \n",
       "1               only one speaker   \n",
       "2                 enough and yet   \n",
       "3          college added african   \n",
       "4           chester independence   \n",
       "...                          ...   \n",
       "83881       star better known as   \n",
       "83882  languages been translated   \n",
       "83883                    star as   \n",
       "83884                    octopus   \n",
       "83885                 sheik half   \n",
       "\n",
       "                                               client_id  \\\n",
       "0      eb005db5c7d0333c500a250c5a3551d95d93d62d4afbfc...   \n",
       "1      3b502c26e0b05c4f38b556d6f666397e50cf2152bea373...   \n",
       "2      953bbec74b68f4a24ca1c70200631938c6554133b64974...   \n",
       "3      a8ce1885a19d337fac4f60f2178f5f9f7d5b3c8e231437...   \n",
       "4      97c8ac97359d907568354048899b57c3caa29bc4bce205...   \n",
       "...                                                  ...   \n",
       "83881  fefdf541ed91b86082b064fe4b4de91161e654b7eb0aa5...   \n",
       "83882  fefdf541ed91b86082b064fe4b4de91161e654b7eb0aa5...   \n",
       "83883  fefdf541ed91b86082b064fe4b4de91161e654b7eb0aa5...   \n",
       "83884  fefdf541ed91b86082b064fe4b4de91161e654b7eb0aa5...   \n",
       "83885  fefdf541ed91b86082b064fe4b4de91161e654b7eb0aa5...   \n",
       "\n",
       "                           sound_id  \\\n",
       "0       common_voice_en_18721929_34   \n",
       "1        common_voice_en_18723654_8   \n",
       "2       common_voice_en_18548669_19   \n",
       "3        common_voice_en_18879914_4   \n",
       "4       common_voice_en_18843920_55   \n",
       "...                             ...   \n",
       "83881   common_voice_en_18890858_23   \n",
       "83882   common_voice_en_18890851_40   \n",
       "83883   common_voice_en_18890858_29   \n",
       "83884  common_voice_en_18890856_105   \n",
       "83885   common_voice_en_18890853_21   \n",
       "\n",
       "                                               intervals  \n",
       "0      ([(0.0, 0.015000000000000124, 'padding', ''), ...  \n",
       "1      ([(0.0, 0.020000000000000018, 'padding', ''), ...  \n",
       "2      ([(0.0, 0.025000000000000355, 'padding', ''), ...  \n",
       "3      ([(0.0, 0.03500000000000014, 'padding', ''), (...  \n",
       "4      ([(0.0, 0.019999999999999574, 'padding', ''), ...  \n",
       "...                                                  ...  \n",
       "83881  ([(0.0, 0.009999999999999787, 'padding', ''), ...  \n",
       "83882  ([(0.0, 0.009999999999999787, 'padding', ''), ...  \n",
       "83883  ([(0.0, 0.009999999999999787, 'padding', ''), ...  \n",
       "83884  ([(0.0, 0.06500000000000039, 'padding', ''), (...  \n",
       "83885  ([(0.0, 0.040000000000000036, 'padding', ''), ...  \n",
       "\n",
       "[83886 rows x 9 columns]"
      ]
     },
     "metadata": {},
     "output_type": "display_data"
    }
   ],
   "source": [
    "display(labels) #we get the accent, the gender, the age of the locutor, and the sentence"
   ]
  },
  {
   "cell_type": "code",
   "execution_count": 25,
   "metadata": {},
   "outputs": [
    {
     "data": {
      "text/plain": [
       "twenties     32793\n",
       "thirties     19751\n",
       "fourties     10584\n",
       "fifties       7810\n",
       "teens         6643\n",
       "sixties       4868\n",
       "seventies     1264\n",
       "nineties        89\n",
       "eighties        84\n",
       "Name: age, dtype: int64"
      ]
     },
     "execution_count": 25,
     "metadata": {},
     "output_type": "execute_result"
    }
   ],
   "source": [
    "labels['age'].value_counts()"
   ]
  },
  {
   "cell_type": "code",
   "execution_count": 59,
   "metadata": {},
   "outputs": [
    {
     "data": {
      "text/plain": [
       "male      43940\n",
       "female    39946\n",
       "Name: gender, dtype: int64"
      ]
     },
     "execution_count": 59,
     "metadata": {},
     "output_type": "execute_result"
    }
   ],
   "source": [
    "labels['gender'].value_counts()"
   ]
  },
  {
   "cell_type": "code",
   "execution_count": 60,
   "metadata": {},
   "outputs": [
    {
     "data": {
      "text/plain": [
       "us             43783\n",
       "indian         11029\n",
       "england        10111\n",
       "canada          7193\n",
       "australia       4329\n",
       "philippines     1282\n",
       "ireland         1135\n",
       "scotland        1017\n",
       "african         1010\n",
       "hongkong         770\n",
       "malaysia         662\n",
       "wales            425\n",
       "newzealand       423\n",
       "singapore        367\n",
       "other            283\n",
       "bermuda           67\n",
       "Name: accent, dtype: int64"
      ]
     },
     "execution_count": 60,
     "metadata": {},
     "output_type": "execute_result"
    }
   ],
   "source": [
    "labels['accent'].value_counts()"
   ]
  },
  {
   "cell_type": "code",
   "execution_count": 61,
   "metadata": {},
   "outputs": [
    {
     "data": {
      "text/plain": [
       "university            38\n",
       "technology            28\n",
       "street                28\n",
       "california            20\n",
       "united states         17\n",
       "                      ..\n",
       "colleague scottish     1\n",
       "face suicidal          1\n",
       "with drawback          1\n",
       "last important         1\n",
       "unison and sandals     1\n",
       "Name: sentence, Length: 68324, dtype: int64"
      ]
     },
     "execution_count": 61,
     "metadata": {},
     "output_type": "execute_result"
    }
   ],
   "source": [
    "labels['sentence'].value_counts()"
   ]
  },
  {
   "cell_type": "code",
   "execution_count": 68,
   "metadata": {},
   "outputs": [
    {
     "data": {
      "text/plain": [
       "0        eb005db5c7d0333c500a250c5a3551d95d93d62d4afbfc...\n",
       "1        3b502c26e0b05c4f38b556d6f666397e50cf2152bea373...\n",
       "2        953bbec74b68f4a24ca1c70200631938c6554133b64974...\n",
       "3        a8ce1885a19d337fac4f60f2178f5f9f7d5b3c8e231437...\n",
       "4        97c8ac97359d907568354048899b57c3caa29bc4bce205...\n",
       "                               ...                        \n",
       "81961    f8aeba2aeff7b503811c0e31c76dba7865837f19b44c77...\n",
       "82346    f8eac24c10bd04b053c0d25c25e83f04211757d55655e5...\n",
       "82731    f8f76b94170a19421464ac1a3b62a926edae4cb12a0a39...\n",
       "83116    fcb16bb0d63a8ef9999d7f8c2c0667ed7e9db67563df59...\n",
       "83501    fefdf541ed91b86082b064fe4b4de91161e654b7eb0aa5...\n",
       "Name: client_id, Length: 697, dtype: object"
      ]
     },
     "execution_count": 68,
     "metadata": {},
     "output_type": "execute_result"
    }
   ],
   "source": [
    "labels['client_id'].drop_duplicates() # seems to be the directory in the 'sample' directory\n",
    "#related to batch size ?"
   ]
  }
 ],
 "metadata": {
  "kernelspec": {
   "display_name": "Python 3",
   "language": "python",
   "name": "python3"
  },
  "language_info": {
   "codemirror_mode": {
    "name": "ipython",
    "version": 3
   },
   "file_extension": ".py",
   "mimetype": "text/x-python",
   "name": "python",
   "nbconvert_exporter": "python",
   "pygments_lexer": "ipython3",
   "version": "3.8.6"
  }
 },
 "nbformat": 4,
 "nbformat_minor": 4
}
