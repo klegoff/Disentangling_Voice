{
 "cells": [
  {
   "cell_type": "raw",
   "metadata": {},
   "source": [
    "Goal of the script : run a classifier over the spectrograms, \n",
    "to determine values for our variables ('age','accent','gender')\n",
    "try them on the shifted dataset"
   ]
  },
  {
   "cell_type": "markdown",
   "metadata": {},
   "source": [
    "# 0. Functions import"
   ]
  },
  {
   "cell_type": "code",
   "execution_count": 3,
   "metadata": {},
   "outputs": [],
   "source": [
    "import sys,os\n",
    "sys.path.append(os.getcwd() + os.sep + 'src/')\n",
    "\n",
    "import numpy as np\n",
    "#import glob2\n",
    "#import joblib\n",
    "import pathlib\n",
    "from scipy.io.wavfile import write as write_waveform\n",
    "from collections import OrderedDict\n",
    "import matplotlib.pyplot as plt\n",
    "#import seaborn as sns\n",
    "import pickle\n",
    "import pandas as pd\n",
    "\n",
    "import torch\n",
    "import torch.nn.functional as F\n",
    "import torch.nn as nn\n",
    "from torch import optim\n",
    "\n",
    "from sklearn.metrics import accuracy_score\n",
    "\n",
    "from spectrogram_stream import SpectrogramStream\n",
    "from autoencoders import ConvolutionalAutoencoder\n",
    "from encoders import ConvolutionalEncoder\n",
    "from bottlenecks import ConvolutionalBottleneck\n",
    "from reconstructors import ConvolutionalDecoder\n",
    "from visualization import spectrogram_to_waveform, compute_reconstruction_plot"
   ]
  },
  {
   "cell_type": "code",
   "execution_count": 4,
   "metadata": {},
   "outputs": [],
   "source": [
    "from models import spectrogram_model"
   ]
  },
  {
   "cell_type": "markdown",
   "metadata": {},
   "source": [
    "# 1. Data loading"
   ]
  },
  {
   "cell_type": "code",
   "execution_count": 5,
   "metadata": {},
   "outputs": [],
   "source": [
    "data_path = 'data'\n",
    "models_path = 'models'\n",
    "experiment_name = 'dataset2filtered_b64_baseline_larger_l1'\n",
    "results_path = os.path.join('results', experiment_name)\n",
    "frame_step = 46\n",
    "n_iter = 300\n",
    "sampling_rate = 16000\n",
    "n_batch = 10 # batch size\n",
    "n_epochs = 10 # epochs for training\n",
    "test_train_split = 0.8\n",
    "device = torch.device(\"cuda:0\" if torch.cuda.is_available() else \"cpu\")"
   ]
  },
  {
   "cell_type": "code",
   "execution_count": 8,
   "metadata": {
    "scrolled": true
   },
   "outputs": [
    {
     "name": "stdout",
     "output_type": "stream",
     "text": [
      "Loading Spectrogram dataset...\n",
      "Number of samples detected: 39718\n",
      "Spectrogram dataset initialized.\n",
      "Building Spectrogram dataloaders...\n",
      "Building the data splitter...\n",
      "Building the train data loader...\n",
      "Train loader size: 3178\n",
      "Building the test data loader...\n",
      "Test loader size: 795\n",
      "Spectrogram dataloaders built successfully\n"
     ]
    }
   ],
   "source": [
    "# load data stream\n",
    "stream = SpectrogramStream(root_path=data_path, batch_size=n_batch,test_train_split=test_train_split, val_train_split=0.0, subsets_to_load=['train','test'], sr=sampling_rate)\n",
    "\n",
    "#load labels\n",
    "label_df = pd.read_csv(\"data/labels.tsv\", sep='\\t').drop(columns=\"Unnamed: 0\").set_index(\"sound_id\")\n",
    "\n",
    "#for w in range(len(stream.train_loader)) :#get training data (step by step)\n",
    "    #data = next(iter(stream.train_loader))['sound'].unsqueeze(1).float()\n",
    "    #spectrograms = data['sound'].unsqueeze(1).float().to(device)"
   ]
  },
  {
   "cell_type": "markdown",
   "metadata": {},
   "source": [
    "# 2. Model training"
   ]
  },
  {
   "cell_type": "code",
   "execution_count": 62,
   "metadata": {},
   "outputs": [],
   "source": [
    "# instantiate model\n",
    "model = spectrogram_model(2)\n",
    "model.to(device)\n",
    "\n",
    "# optimization and loss\n",
    "criterion = nn.CrossEntropyLoss()\n",
    "optimizer = optim.SGD(model.parameters(), lr=0.001, momentum=0.9)"
   ]
  },
  {
   "cell_type": "code",
   "execution_count": 63,
   "metadata": {
    "scrolled": true
   },
   "outputs": [
    {
     "name": "stdout",
     "output_type": "stream",
     "text": [
      "Epoch N° 0  batch n° 0  running loss =  0.0013955731391906737\n",
      "Epoch N° 0  batch n° 500  running loss =  0.658361890733242\n",
      "Epoch N° 0  batch n° 1000  running loss =  0.6515746988654136\n",
      "Epoch N° 0  batch n° 1500  running loss =  0.658188049018383\n",
      "Epoch N° 0  batch n° 2000  running loss =  0.6544179874658584\n",
      "Epoch N° 0  batch n° 2500  running loss =  0.649261391222477\n",
      "Epoch N° 0  batch n° 3000  running loss =  0.6392378455400467\n",
      "Epoch N° 1  batch n° 0  running loss =  0.0018332420587539673\n",
      "Epoch N° 1  batch n° 500  running loss =  0.615932634472847\n",
      "Epoch N° 1  batch n° 1000  running loss =  0.5868706212639808\n",
      "Epoch N° 1  batch n° 1500  running loss =  0.5745286088585854\n",
      "Epoch N° 1  batch n° 2000  running loss =  0.5594303228855133\n",
      "Epoch N° 1  batch n° 2500  running loss =  0.5520093460977078\n",
      "Epoch N° 1  batch n° 3000  running loss =  0.5256716779470444\n",
      "Epoch N° 2  batch n° 0  running loss =  0.0013226598501205444\n",
      "Epoch N° 2  batch n° 500  running loss =  0.5139135766923427\n",
      "Epoch N° 2  batch n° 1000  running loss =  0.4673636207282543\n",
      "Epoch N° 2  batch n° 1500  running loss =  0.4396065094619989\n",
      "Epoch N° 2  batch n° 2000  running loss =  0.3924460134357214\n",
      "Epoch N° 2  batch n° 2500  running loss =  0.3773004469946027\n",
      "Epoch N° 2  batch n° 3000  running loss =  0.3626127612665296\n",
      "Epoch N° 3  batch n° 0  running loss =  0.00020295670628547668\n",
      "Epoch N° 3  batch n° 500  running loss =  0.3411308863386512\n",
      "Epoch N° 3  batch n° 1000  running loss =  0.35232361760735514\n",
      "Epoch N° 3  batch n° 1500  running loss =  0.33510717141255736\n",
      "Epoch N° 3  batch n° 2000  running loss =  0.3307239752113819\n",
      "Epoch N° 3  batch n° 2500  running loss =  0.32299999734386803\n",
      "Epoch N° 3  batch n° 3000  running loss =  0.31493946731835604\n",
      "Epoch N° 4  batch n° 0  running loss =  0.0003403683304786682\n",
      "Epoch N° 4  batch n° 500  running loss =  0.3197952824607492\n",
      "Epoch N° 4  batch n° 1000  running loss =  0.30091640366613864\n",
      "Epoch N° 4  batch n° 1500  running loss =  0.31758425794914363\n",
      "Epoch N° 4  batch n° 2000  running loss =  0.3038872413598001\n",
      "Epoch N° 4  batch n° 2500  running loss =  0.3249050057530403\n",
      "Epoch N° 4  batch n° 3000  running loss =  0.30994784922897817\n",
      "Epoch N° 5  batch n° 0  running loss =  0.0006462487578392028\n",
      "Epoch N° 5  batch n° 500  running loss =  0.3007611585371196\n",
      "Epoch N° 5  batch n° 1000  running loss =  0.3176489603891969\n",
      "Epoch N° 5  batch n° 1500  running loss =  0.30061590322852133\n",
      "Epoch N° 5  batch n° 2000  running loss =  0.31373565927520397\n",
      "Epoch N° 5  batch n° 2500  running loss =  0.3138190797306597\n",
      "Epoch N° 5  batch n° 3000  running loss =  0.29776442854851487\n",
      "Epoch N° 6  batch n° 0  running loss =  0.0008664658665657044\n",
      "Epoch N° 6  batch n° 500  running loss =  0.2986377327404916\n",
      "Epoch N° 6  batch n° 1000  running loss =  0.30336227105185387\n",
      "Epoch N° 6  batch n° 1500  running loss =  0.2967483167201281\n",
      "Epoch N° 6  batch n° 2000  running loss =  0.2945435523688793\n",
      "Epoch N° 6  batch n° 2500  running loss =  0.30855784118920565\n",
      "Epoch N° 6  batch n° 3000  running loss =  0.28960408541187643\n",
      "Epoch N° 7  batch n° 0  running loss =  0.0005641902685165405\n",
      "Epoch N° 7  batch n° 500  running loss =  0.2950866082161665\n",
      "Epoch N° 7  batch n° 1000  running loss =  0.27776818835362793\n",
      "Epoch N° 7  batch n° 1500  running loss =  0.27517076540738344\n",
      "Epoch N° 7  batch n° 2000  running loss =  0.26705845203250644\n",
      "Epoch N° 7  batch n° 2500  running loss =  0.2896153538823128\n",
      "Epoch N° 7  batch n° 3000  running loss =  0.26802529669553044\n",
      "Epoch N° 8  batch n° 0  running loss =  0.0012096896171569823\n",
      "Epoch N° 8  batch n° 500  running loss =  0.2665654456894845\n",
      "Epoch N° 8  batch n° 1000  running loss =  0.2815115701779723\n",
      "Epoch N° 8  batch n° 1500  running loss =  0.26423082887381316\n",
      "Epoch N° 8  batch n° 2000  running loss =  0.2700854279063642\n",
      "Epoch N° 8  batch n° 2500  running loss =  0.2816006164364517\n",
      "Epoch N° 8  batch n° 3000  running loss =  0.2582391539290547\n",
      "Epoch N° 9  batch n° 0  running loss =  0.0002145628035068512\n",
      "Epoch N° 9  batch n° 500  running loss =  0.2851494235433638\n",
      "Epoch N° 9  batch n° 1000  running loss =  0.27118130488321185\n",
      "Epoch N° 9  batch n° 1500  running loss =  0.25162841119617224\n",
      "Epoch N° 9  batch n° 2000  running loss =  0.2638332425579429\n",
      "Epoch N° 9  batch n° 2500  running loss =  0.2624771426357329\n",
      "Epoch N° 9  batch n° 3000  running loss =  0.25494703273661434\n"
     ]
    }
   ],
   "source": [
    "# model training\n",
    "for epoch in range(n_epochs):\n",
    "    running_loss = 0\n",
    "    for w in range(len(stream.train_loader)) :#get training data (step by step)\n",
    "        data = next(iter(stream.train_loader))\n",
    "        sound = data['sound'].unsqueeze(1).float().to(device)\n",
    "        sound_id = data['sound_id']\n",
    "\n",
    "        # target values for the chosen variable \n",
    "        var = \"gender\"\n",
    "        target_mod = pd.DataFrame([],index=sound_id).merge(label_df[[var]], left_index=True, right_index=True)[var].values\n",
    "        #target = torch.Tensor(np.zeros((10,3)))\n",
    "        #for i in range(len(target_mod)):\n",
    "        #    target[i][target_mod[i]] = 1\n",
    "        target_mod = torch.Tensor(target_mod).long().to(device)\n",
    "        \n",
    "        # zero the parameter gradients\n",
    "        optimizer.zero_grad()\n",
    "\n",
    "        # compute output\n",
    "        output = model(sound)\n",
    "\n",
    "        # loss computation and propagation\n",
    "        loss = criterion(output, target_mod)\n",
    "        loss.backward()\n",
    "        optimizer.step()\n",
    "\n",
    "        running_loss += loss.item()\n",
    "        \n",
    "        if w%500 == 0:\n",
    "            print(\"Epoch N°\", epoch, \" batch n°\", w, \" running loss = \", running_loss/500)\n",
    "            running_loss = 0\n",
    "        "
   ]
  },
  {
   "cell_type": "code",
   "execution_count": 64,
   "metadata": {},
   "outputs": [],
   "source": [
    "save = True\n",
    "if save :\n",
    "    torch.save(model.state_dict(), \"spectrogram_\" + var + \"_classifier.statedict\")\n",
    "else :\n",
    "    x = torch.load(\"spectrogram_\" + var +\"_classifier.statedict\")"
   ]
  },
  {
   "cell_type": "markdown",
   "metadata": {},
   "source": [
    "# 3. Model Evaluation"
   ]
  },
  {
   "cell_type": "markdown",
   "metadata": {},
   "source": [
    "## 1. Load Model"
   ]
  },
  {
   "cell_type": "code",
   "execution_count": 15,
   "metadata": {},
   "outputs": [
    {
     "name": "stdout",
     "output_type": "stream",
     "text": [
      "data\t\t\t\tsound_id.pickle\r\n",
      "latent_space_exploration.ipynb\tspectrogram_age_classifier.statedict\r\n",
      "models\t\t\t\tspectrogram_classifier.ipynb\r\n",
      "models.py\t\t\tspectrogram_gender_classifier.statedict\r\n",
      "projection.pickle\t\tsrc\r\n",
      "__pycache__\t\t\ttsne_df.pickle\r\n",
      "results\r\n"
     ]
    }
   ],
   "source": [
    "!ls"
   ]
  },
  {
   "cell_type": "code",
   "execution_count": 83,
   "metadata": {},
   "outputs": [],
   "source": [
    "var = \"gender\" # \"age\", \"accent\""
   ]
  },
  {
   "cell_type": "code",
   "execution_count": 11,
   "metadata": {},
   "outputs": [
    {
     "name": "stdout",
     "output_type": "stream",
     "text": [
      "Loading Spectrogram dataset...\n",
      "Number of samples detected: 39718\n",
      "Spectrogram dataset initialized.\n",
      "Building Spectrogram dataloaders...\n",
      "Building the data splitter...\n",
      "Building the train data loader...\n",
      "Train loader size: 3178\n",
      "Building the test data loader...\n",
      "Test loader size: 795\n",
      "Spectrogram dataloaders built successfully\n"
     ]
    }
   ],
   "source": [
    "# load the corresponding model\n",
    "label_df[var + \"_prediction\"] = -1\n",
    "model = spectrogram_model(2) # for gender : 2, for age : 3, for accent 15\n",
    "model.load_state_dict(torch.load(\"models/spectrogram_\" + var +\"_classifier.statedict\"))\n",
    "device = \"cpu\"\n",
    "\n",
    "# load data\n",
    "stream = SpectrogramStream(root_path=data_path, batch_size=n_batch,test_train_split=test_train_split, val_train_split=0.0, subsets_to_load=['train','test'], sr=sampling_rate)"
   ]
  },
  {
   "cell_type": "markdown",
   "metadata": {},
   "source": [
    "## 2. Predict on test"
   ]
  },
  {
   "cell_type": "code",
   "execution_count": 85,
   "metadata": {},
   "outputs": [
    {
     "name": "stderr",
     "output_type": "stream",
     "text": [
      "/home/klegoff/.local/lib/python3.8/site-packages/pandas/core/indexing.py:670: SettingWithCopyWarning: \n",
      "A value is trying to be set on a copy of a slice from a DataFrame\n",
      "\n",
      "See the caveats in the documentation: https://pandas.pydata.org/pandas-docs/stable/user_guide/indexing.html#returning-a-view-versus-a-copy\n",
      "  iloc._setitem_with_indexer(indexer, value)\n",
      "Traceback (most recent call last):\n",
      "  File \"/usr/lib/python3.8/multiprocessing/queues.py\", line 235, in _feed\n",
      "    close()\n",
      "  File \"/usr/lib/python3.8/multiprocessing/connection.py\", line 177, in close\n",
      "    self._close()\n",
      "  File \"/usr/lib/python3.8/multiprocessing/connection.py\", line 361, in _close\n",
      "    _close(self._handle)\n",
      "OSError: [Errno 9] Bad file descriptor\n"
     ]
    }
   ],
   "source": [
    "# Make prediction to test the model\n",
    "\n",
    "for w in range(len(stream.test_loader)) :#get test data (step by step)\n",
    "    data = next(iter(stream.test_loader))\n",
    "    sound = data['sound'].unsqueeze(1).float().to(device)\n",
    "    sound_id = data['sound_id']\n",
    "\n",
    "    # target values for the chosen variable \n",
    "    target_mod = pd.DataFrame([],index=sound_id).merge(label_df[[var]], left_index=True, right_index=True)[var].values\n",
    "    #target = torch.Tensor(np.zeros((10,3)))\n",
    "    #for i in range(len(target_mod)):\n",
    "    #    target[i][target_mod[i]] = 1\n",
    "    #target_mod = torch.Tensor(target_mod).long().to(device)\n",
    "\n",
    "    # compute output\n",
    "    output = model(sound)\n",
    "    \n",
    "    pred = torch.argmax(output, dim = 1)\n",
    "    \n",
    "    for i in range(len(sound_id)):\n",
    "        label_df[var + \"_prediction\"].loc[label_df.index == sound_id[i]] = pred[i].item()"
   ]
  },
  {
   "cell_type": "markdown",
   "metadata": {},
   "source": [
    "## 3. Analyze predictions"
   ]
  },
  {
   "cell_type": "markdown",
   "metadata": {},
   "source": [
    "### 1. Gender prediction"
   ]
  },
  {
   "cell_type": "code",
   "execution_count": 86,
   "metadata": {
    "scrolled": true
   },
   "outputs": [
    {
     "data": {
      "text/plain": [
       "-1    34707\n",
       " 0     2998\n",
       " 1     2013\n",
       "Name: gender_prediction, dtype: int64"
      ]
     },
     "execution_count": 86,
     "metadata": {},
     "output_type": "execute_result"
    }
   ],
   "source": [
    "label_df.gender_prediction.value_counts() # -1 values for prediction, correspond to the element of the training set (on which we do not predict)"
   ]
  },
  {
   "cell_type": "code",
   "execution_count": 87,
   "metadata": {},
   "outputs": [
    {
     "data": {
      "text/html": [
       "<div>\n",
       "<style scoped>\n",
       "    .dataframe tbody tr th:only-of-type {\n",
       "        vertical-align: middle;\n",
       "    }\n",
       "\n",
       "    .dataframe tbody tr th {\n",
       "        vertical-align: top;\n",
       "    }\n",
       "\n",
       "    .dataframe thead th {\n",
       "        text-align: right;\n",
       "    }\n",
       "</style>\n",
       "<table border=\"1\" class=\"dataframe\">\n",
       "  <thead>\n",
       "    <tr style=\"text-align: right;\">\n",
       "      <th>gender_prediction</th>\n",
       "      <th>0</th>\n",
       "      <th>1</th>\n",
       "    </tr>\n",
       "    <tr>\n",
       "      <th>gender</th>\n",
       "      <th></th>\n",
       "      <th></th>\n",
       "    </tr>\n",
       "  </thead>\n",
       "  <tbody>\n",
       "    <tr>\n",
       "      <th>0</th>\n",
       "      <td>2779</td>\n",
       "      <td>400</td>\n",
       "    </tr>\n",
       "    <tr>\n",
       "      <th>1</th>\n",
       "      <td>219</td>\n",
       "      <td>1613</td>\n",
       "    </tr>\n",
       "  </tbody>\n",
       "</table>\n",
       "</div>"
      ],
      "text/plain": [
       "gender_prediction     0     1\n",
       "gender                       \n",
       "0                  2779   400\n",
       "1                   219  1613"
      ]
     },
     "execution_count": 87,
     "metadata": {},
     "output_type": "execute_result"
    }
   ],
   "source": [
    "# confusion matrix\n",
    "pd.crosstab(label_df.gender, label_df.gender_prediction).iloc[:,1:]"
   ]
  },
  {
   "cell_type": "code",
   "execution_count": 88,
   "metadata": {},
   "outputs": [
    {
     "data": {
      "text/plain": [
       "0.8764717621233287"
      ]
     },
     "execution_count": 88,
     "metadata": {},
     "output_type": "execute_result"
    }
   ],
   "source": [
    "# accuracy\n",
    "y_true = label_df.gender.loc[label_df.gender_prediction != -1]\n",
    "y_pred = label_df.gender_prediction.loc[label_df.gender_prediction != -1]\n",
    "\n",
    "accuracy_score(y_true, y_pred)"
   ]
  },
  {
   "cell_type": "markdown",
   "metadata": {},
   "source": [
    "### 2. Age prediction"
   ]
  },
  {
   "cell_type": "code",
   "execution_count": 75,
   "metadata": {},
   "outputs": [
    {
     "data": {
      "text/plain": [
       "-1    34694\n",
       " 1     4629\n",
       " 0      395\n",
       "Name: age_prediction, dtype: int64"
      ]
     },
     "execution_count": 75,
     "metadata": {},
     "output_type": "execute_result"
    }
   ],
   "source": [
    "label_df.age_prediction.value_counts() # -1 values for prediction, correspond to the element of the training set (on which we do not predict)"
   ]
  },
  {
   "cell_type": "code",
   "execution_count": 76,
   "metadata": {},
   "outputs": [
    {
     "data": {
      "text/html": [
       "<div>\n",
       "<style scoped>\n",
       "    .dataframe tbody tr th:only-of-type {\n",
       "        vertical-align: middle;\n",
       "    }\n",
       "\n",
       "    .dataframe tbody tr th {\n",
       "        vertical-align: top;\n",
       "    }\n",
       "\n",
       "    .dataframe thead th {\n",
       "        text-align: right;\n",
       "    }\n",
       "</style>\n",
       "<table border=\"1\" class=\"dataframe\">\n",
       "  <thead>\n",
       "    <tr style=\"text-align: right;\">\n",
       "      <th>age_prediction</th>\n",
       "      <th>0</th>\n",
       "      <th>1</th>\n",
       "    </tr>\n",
       "    <tr>\n",
       "      <th>age</th>\n",
       "      <th></th>\n",
       "      <th></th>\n",
       "    </tr>\n",
       "  </thead>\n",
       "  <tbody>\n",
       "    <tr>\n",
       "      <th>0</th>\n",
       "      <td>213</td>\n",
       "      <td>1999</td>\n",
       "    </tr>\n",
       "    <tr>\n",
       "      <th>1</th>\n",
       "      <td>179</td>\n",
       "      <td>2558</td>\n",
       "    </tr>\n",
       "    <tr>\n",
       "      <th>2</th>\n",
       "      <td>3</td>\n",
       "      <td>72</td>\n",
       "    </tr>\n",
       "  </tbody>\n",
       "</table>\n",
       "</div>"
      ],
      "text/plain": [
       "age_prediction    0     1\n",
       "age                      \n",
       "0               213  1999\n",
       "1               179  2558\n",
       "2                 3    72"
      ]
     },
     "execution_count": 76,
     "metadata": {},
     "output_type": "execute_result"
    }
   ],
   "source": [
    "# confusion matrix\n",
    "pd.crosstab(label_df.age, label_df.age_prediction).iloc[:,1:]"
   ]
  },
  {
   "cell_type": "code",
   "execution_count": 78,
   "metadata": {},
   "outputs": [
    {
     "data": {
      "text/plain": [
       "0.5515525477707006"
      ]
     },
     "execution_count": 78,
     "metadata": {},
     "output_type": "execute_result"
    }
   ],
   "source": [
    "# accuracy\n",
    "y_true = label_df.age.loc[label_df.age_prediction != -1]\n",
    "y_pred = label_df.age_prediction.loc[label_df.age_prediction != -1]\n",
    "\n",
    "accuracy_score(y_true, y_pred) # accuracy is not very good (probably the age feature is irrelevant or not well defined)"
   ]
  },
  {
   "cell_type": "markdown",
   "metadata": {},
   "source": [
    "# 4. Predict on rigged data"
   ]
  },
  {
   "cell_type": "code",
   "execution_count": 2,
   "metadata": {},
   "outputs": [],
   "source": [
    "var = \"gender\" # \"age\", \"accent\""
   ]
  },
  {
   "cell_type": "code",
   "execution_count": 13,
   "metadata": {},
   "outputs": [],
   "source": [
    "# load the corresponding model\n",
    "label_df[var + \"_prediction\"] = -1\n",
    "model = model = spectrogram_model(2) # for gender : 2, for age : 3, for accent 15\n",
    "model.load_state_dict(torch.load(\"models/spectrogram_\" + var +\"_classifier.statedict\"))\n",
    "device = \"cpu\""
   ]
  },
  {
   "cell_type": "code",
   "execution_count": null,
   "metadata": {},
   "outputs": [],
   "source": []
  }
 ],
 "metadata": {
  "kernelspec": {
   "display_name": "Python 3",
   "language": "python",
   "name": "python3"
  },
  "language_info": {
   "codemirror_mode": {
    "name": "ipython",
    "version": 3
   },
   "file_extension": ".py",
   "mimetype": "text/x-python",
   "name": "python",
   "nbconvert_exporter": "python",
   "pygments_lexer": "ipython3",
   "version": "3.8.5"
  }
 },
 "nbformat": 4,
 "nbformat_minor": 4
}
