{
 "cells": [
  {
   "cell_type": "raw",
   "metadata": {},
   "source": [
    "Goal of the script : preprocess the data (go from a collection of wav file to a collection of mfcc array)"
   ]
  },
  {
   "cell_type": "code",
   "execution_count": 24,
   "metadata": {},
   "outputs": [],
   "source": [
    "import os\n",
    "import numpy as np\n",
    "import matplotlib.pyplot as plt\n",
    "import librosa\n",
    "import pandas as pd"
   ]
  },
  {
   "cell_type": "markdown",
   "metadata": {},
   "source": [
    "# 1. Directory definition"
   ]
  },
  {
   "cell_type": "code",
   "execution_count": 17,
   "metadata": {},
   "outputs": [],
   "source": [
    "output_directory = \"out\" # output data will be saved here, need to be created beforehand\n",
    "os.chdir('/home/klegoff/Documents/test_data') # raw data location"
   ]
  },
  {
   "cell_type": "code",
   "execution_count": 2,
   "metadata": {},
   "outputs": [],
   "source": [
    "#get data if needed\n",
    "#!wget https://common-voice-data-download.s3.amazonaws.com/cv_corpus_v1.tar.gz"
   ]
  },
  {
   "cell_type": "code",
   "execution_count": 19,
   "metadata": {},
   "outputs": [
    {
     "name": "stdout",
     "output_type": "stream",
     "text": [
      "clips\t invalidated.tsv  reported.tsv\ttrain.tsv\r\n",
      "dev.tsv  other.tsv\t  test.tsv\tvalidated.tsv\r\n"
     ]
    }
   ],
   "source": [
    "!ls #wav files are in clips directory"
   ]
  },
  {
   "cell_type": "code",
   "execution_count": 44,
   "metadata": {},
   "outputs": [],
   "source": [
    "datapath = \"clips\"\n",
    "file_list = os.listdir(datapath)  # list of all files to be processed"
   ]
  },
  {
   "cell_type": "markdown",
   "metadata": {},
   "source": [
    "# 2. Processing"
   ]
  },
  {
   "cell_type": "code",
   "execution_count": 39,
   "metadata": {},
   "outputs": [],
   "source": [
    "N_mfcc = 15 #number of mfcc to compute, usually 10-15 coefficients, according to "
   ]
  },
  {
   "cell_type": "code",
   "execution_count": 128,
   "metadata": {},
   "outputs": [],
   "source": [
    "def cut_data(data,samplerate,n_ms=0.05):\n",
    "    \"\"\"\n",
    "    cut the data in 50 ms bins (by default)\n",
    "    \"\"\"\n",
    "    step = int(n_ms*samplerate) # we take 50 ms time interval\n",
    "\n",
    "    # cut the first element\n",
    "    i=0\n",
    "    cut =data[i*step : (i+1)*step]\n",
    "    cut_data = [cut]\n",
    "    \n",
    "    while True:\n",
    "        i+=1\n",
    "        cut = data[i*step : (i+1)*step]\n",
    "        if cut.shape[0] == 0 :\n",
    "            break\n",
    "        cut_data.append(cut)\n",
    "                \n",
    "    return cut_data"
   ]
  },
  {
   "cell_type": "code",
   "execution_count": 133,
   "metadata": {},
   "outputs": [],
   "source": [
    "def save(f,d):\n",
    "    \"\"\"\n",
    "    save the data in the file\n",
    "    f:filename\n",
    "    d:data\n",
    "    \"\"\"\n",
    "    with open(f,'wb'):\n",
    "        np.save(f,d)\n",
    "\n",
    "\n",
    "def compute_mfcc(file,n_mfcc=15):\n",
    "    \"\"\"\n",
    "    compute mfcc array\n",
    "    to be multiprocessed ? probably needed for big volume\n",
    "    \"\"\"\n",
    "    #load mp3/wav file\n",
    "    data, samplerate = librosa.load(datapath +os.sep+file)\n",
    "    \n",
    "    #cut data in 50ms intervals\n",
    "    sliced_data = cut_data(data, samplerate)\n",
    "    \n",
    "    for i in range(len(sliced_data)):\n",
    "        red_data = sliced_data[i]\n",
    "        \n",
    "        #compute mfcc\n",
    "        mfcc = librosa.feature.mfcc(red_data,n_mfcc=n_mfcc)\n",
    "\n",
    "        # save in the output directory\n",
    "        save(output_directory+os.sep+file[:-4]+\"_\"+str(i)+\".npy\", mfcc)"
   ]
  },
  {
   "cell_type": "code",
   "execution_count": null,
   "metadata": {},
   "outputs": [],
   "source": [
    "with concurrent.futures.ThreadPoolExecutor(max_worker=4) as executor:\n",
    "    executor.map(compute_mfcc, file_list)"
   ]
  },
  {
   "cell_type": "code",
   "execution_count": 106,
   "metadata": {},
   "outputs": [
    {
     "data": {
      "text/plain": [
       "(2000,)"
      ]
     },
     "execution_count": 106,
     "metadata": {},
     "output_type": "execute_result"
    }
   ],
   "source": [
    "# do we need to filter out some uninformative sequences ?"
   ]
  }
 ],
 "metadata": {
  "kernelspec": {
   "display_name": "Python 3",
   "language": "python",
   "name": "python3"
  },
  "language_info": {
   "codemirror_mode": {
    "name": "ipython",
    "version": 3
   },
   "file_extension": ".py",
   "mimetype": "text/x-python",
   "name": "python",
   "nbconvert_exporter": "python",
   "pygments_lexer": "ipython3",
   "version": "3.8.5"
  }
 },
 "nbformat": 4,
 "nbformat_minor": 4
}
