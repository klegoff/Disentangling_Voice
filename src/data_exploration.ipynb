{
 "cells": [
  {
   "cell_type": "raw",
   "metadata": {},
   "source": [
    "Goal of this script : Understand the construction of the data"
   ]
  },
  {
   "cell_type": "code",
   "execution_count": 2,
   "metadata": {},
   "outputs": [],
   "source": [
    "import os\n",
    "import numpy as np\n",
    "import pandas as pd\n",
    "import matplotlib.pyplot as plt\n",
    "import librosa\n",
    "import librosa.display"
   ]
  },
  {
   "cell_type": "markdown",
   "metadata": {},
   "source": [
    "# 1. Data import"
   ]
  },
  {
   "cell_type": "code",
   "execution_count": 3,
   "metadata": {},
   "outputs": [
    {
     "name": "stdout",
     "output_type": "stream",
     "text": [
      "/home/klegoff/git_synchronized/Disentangling_Voice/Data/commonvoice_example\n"
     ]
    }
   ],
   "source": [
    "os.getcwd()\n",
    "os.chdir(\"../Data/commonvoice_example\")\n",
    "print(os.getcwd())"
   ]
  },
  {
   "cell_type": "code",
   "execution_count": 4,
   "metadata": {
    "scrolled": true
   },
   "outputs": [
    {
     "name": "stdout",
     "output_type": "stream",
     "text": [
      "labels.tsv  preprocessed  raw\r\n"
     ]
    }
   ],
   "source": [
    "!ls"
   ]
  },
  {
   "cell_type": "code",
   "execution_count": 5,
   "metadata": {},
   "outputs": [
    {
     "name": "stdout",
     "output_type": "stream",
     "text": [
      "common_voice_en_62600_0.npy   common_voice_en_62600_2.npy\r\n",
      "common_voice_en_62600_14.npy  common_voice_en_62600_4.npy\r\n"
     ]
    }
   ],
   "source": [
    "!ls preprocessed"
   ]
  },
  {
   "cell_type": "code",
   "execution_count": 51,
   "metadata": {},
   "outputs": [],
   "source": [
    "file = \"common_voice_en_62600_14\"\n",
    "wav_file = \"raw\" + os.sep + file + \".wav\"\n",
    "npy_file = \"preprocessed\" + os.sep + file + \".npy\""
   ]
  },
  {
   "cell_type": "code",
   "execution_count": 7,
   "metadata": {},
   "outputs": [],
   "source": [
    "# load wav file and label file\n",
    "data, samplerate = librosa.load(wav_file) #tuple : 1rst elem = numpy array, 2nd elem = sample freq \n",
    "labels = pd.read_csv('labels.tsv',sep=\"\\t\").drop(columns= \"Unnamed: 0\")"
   ]
  },
  {
   "cell_type": "markdown",
   "metadata": {},
   "source": [
    "# 2. Format of the data"
   ]
  },
  {
   "cell_type": "code",
   "execution_count": 8,
   "metadata": {},
   "outputs": [
    {
     "data": {
      "text/plain": [
       "array([-3.9657344e-14,  3.7866027e-10,  1.4519755e-09, ...,\n",
       "       -9.1513699e-05, -5.8550446e-05,  1.5296333e-05], dtype=float32)"
      ]
     },
     "metadata": {},
     "output_type": "display_data"
    }
   ],
   "source": [
    "display(data) #array of our signal, 50ms long"
   ]
  },
  {
   "cell_type": "code",
   "execution_count": 9,
   "metadata": {},
   "outputs": [
    {
     "data": {
      "text/plain": [
       "<simpleaudio.shiny.PlayObject at 0x7f28ecdc86a0>"
      ]
     },
     "execution_count": 9,
     "metadata": {},
     "output_type": "execute_result"
    }
   ],
   "source": [
    "#to play the sound file\n",
    "import simpleaudio as sa\n",
    "sa.play_buffer(data.astype(np.int16),1,2,samplerate)\n"
   ]
  },
  {
   "cell_type": "code",
   "execution_count": 10,
   "metadata": {},
   "outputs": [
    {
     "name": "stdout",
     "output_type": "stream",
     "text": [
      "common_voice_en_62600_0\n"
     ]
    },
    {
     "data": {
      "text/html": [
       "<div>\n",
       "<style scoped>\n",
       "    .dataframe tbody tr th:only-of-type {\n",
       "        vertical-align: middle;\n",
       "    }\n",
       "\n",
       "    .dataframe tbody tr th {\n",
       "        vertical-align: top;\n",
       "    }\n",
       "\n",
       "    .dataframe thead th {\n",
       "        text-align: right;\n",
       "    }\n",
       "</style>\n",
       "<table border=\"1\" class=\"dataframe\">\n",
       "  <thead>\n",
       "    <tr style=\"text-align: right;\">\n",
       "      <th></th>\n",
       "      <th>Unnamed: 0.1</th>\n",
       "      <th>age</th>\n",
       "      <th>gender</th>\n",
       "      <th>accent</th>\n",
       "      <th>original_sentence</th>\n",
       "      <th>sentence</th>\n",
       "      <th>client_id</th>\n",
       "      <th>sound_id</th>\n",
       "      <th>intervals</th>\n",
       "    </tr>\n",
       "  </thead>\n",
       "  <tbody>\n",
       "    <tr>\n",
       "      <th>4085</th>\n",
       "      <td>2523282</td>\n",
       "      <td>thirties</td>\n",
       "      <td>male</td>\n",
       "      <td>us</td>\n",
       "      <td>A person on a blue bench under a blue blanket.</td>\n",
       "      <td>a person</td>\n",
       "      <td>0a0f10d1306657ff2506f99a92144d8f01895d0a66b6fe...</td>\n",
       "      <td>common_voice_en_62600_0</td>\n",
       "      <td>([(0.0, 0.040000000000000036, 'padding', ''), ...</td>\n",
       "    </tr>\n",
       "  </tbody>\n",
       "</table>\n",
       "</div>"
      ],
      "text/plain": [
       "      Unnamed: 0.1       age gender accent  \\\n",
       "4085       2523282  thirties   male     us   \n",
       "\n",
       "                                   original_sentence   sentence  \\\n",
       "4085  A person on a blue bench under a blue blanket.   a person   \n",
       "\n",
       "                                              client_id  \\\n",
       "4085  0a0f10d1306657ff2506f99a92144d8f01895d0a66b6fe...   \n",
       "\n",
       "                     sound_id  \\\n",
       "4085  common_voice_en_62600_0   \n",
       "\n",
       "                                              intervals  \n",
       "4085  ([(0.0, 0.040000000000000036, 'padding', ''), ...  "
      ]
     },
     "metadata": {},
     "output_type": "display_data"
    }
   ],
   "source": [
    "# get the according labels\n",
    "\n",
    "sound_id = file\n",
    "print(sound_id) # sound_id, to relate to the labels\n",
    "\n",
    "display(labels.loc[labels['sound_id']==sound_id])"
   ]
  },
  {
   "cell_type": "markdown",
   "metadata": {},
   "source": [
    "# 3. Overview of labeling"
   ]
  },
  {
   "cell_type": "code",
   "execution_count": 11,
   "metadata": {},
   "outputs": [
    {
     "data": {
      "text/html": [
       "<div>\n",
       "<style scoped>\n",
       "    .dataframe tbody tr th:only-of-type {\n",
       "        vertical-align: middle;\n",
       "    }\n",
       "\n",
       "    .dataframe tbody tr th {\n",
       "        vertical-align: top;\n",
       "    }\n",
       "\n",
       "    .dataframe thead th {\n",
       "        text-align: right;\n",
       "    }\n",
       "</style>\n",
       "<table border=\"1\" class=\"dataframe\">\n",
       "  <thead>\n",
       "    <tr style=\"text-align: right;\">\n",
       "      <th></th>\n",
       "      <th>Unnamed: 0.1</th>\n",
       "      <th>age</th>\n",
       "      <th>gender</th>\n",
       "      <th>accent</th>\n",
       "      <th>original_sentence</th>\n",
       "      <th>sentence</th>\n",
       "      <th>client_id</th>\n",
       "      <th>sound_id</th>\n",
       "      <th>intervals</th>\n",
       "    </tr>\n",
       "  </thead>\n",
       "  <tbody>\n",
       "    <tr>\n",
       "      <th>0</th>\n",
       "      <td>75927</td>\n",
       "      <td>fourties</td>\n",
       "      <td>male</td>\n",
       "      <td>canada</td>\n",
       "      <td>The baronetcy is currently held by his grandso...</td>\n",
       "      <td>grandson john</td>\n",
       "      <td>eb005db5c7d0333c500a250c5a3551d95d93d62d4afbfc...</td>\n",
       "      <td>common_voice_en_18721929_34</td>\n",
       "      <td>([(0.0, 0.015000000000000124, 'padding', ''), ...</td>\n",
       "    </tr>\n",
       "    <tr>\n",
       "      <th>1</th>\n",
       "      <td>1478669</td>\n",
       "      <td>twenties</td>\n",
       "      <td>male</td>\n",
       "      <td>indian</td>\n",
       "      <td>Only one speaker survives in Nepal, an elderly...</td>\n",
       "      <td>only one speaker</td>\n",
       "      <td>3b502c26e0b05c4f38b556d6f666397e50cf2152bea373...</td>\n",
       "      <td>common_voice_en_18723654_8</td>\n",
       "      <td>([(0.0, 0.020000000000000018, 'padding', ''), ...</td>\n",
       "    </tr>\n",
       "    <tr>\n",
       "      <th>2</th>\n",
       "      <td>340793</td>\n",
       "      <td>sixties</td>\n",
       "      <td>male</td>\n",
       "      <td>us</td>\n",
       "      <td>I’m too happy; and yet I’m not happy enough.</td>\n",
       "      <td>enough and yet</td>\n",
       "      <td>953bbec74b68f4a24ca1c70200631938c6554133b64974...</td>\n",
       "      <td>common_voice_en_18548669_19</td>\n",
       "      <td>([(0.0, 0.025000000000000355, 'padding', ''), ...</td>\n",
       "    </tr>\n",
       "    <tr>\n",
       "      <th>3</th>\n",
       "      <td>129304</td>\n",
       "      <td>thirties</td>\n",
       "      <td>male</td>\n",
       "      <td>us</td>\n",
       "      <td>Over the next decade, the college added Africa...</td>\n",
       "      <td>college added african</td>\n",
       "      <td>a8ce1885a19d337fac4f60f2178f5f9f7d5b3c8e231437...</td>\n",
       "      <td>common_voice_en_18879914_4</td>\n",
       "      <td>([(0.0, 0.03500000000000014, 'padding', ''), (...</td>\n",
       "    </tr>\n",
       "    <tr>\n",
       "      <th>4</th>\n",
       "      <td>114978</td>\n",
       "      <td>twenties</td>\n",
       "      <td>male</td>\n",
       "      <td>us</td>\n",
       "      <td>During the American War of Independence the Go...</td>\n",
       "      <td>chester independence</td>\n",
       "      <td>97c8ac97359d907568354048899b57c3caa29bc4bce205...</td>\n",
       "      <td>common_voice_en_18843920_55</td>\n",
       "      <td>([(0.0, 0.019999999999999574, 'padding', ''), ...</td>\n",
       "    </tr>\n",
       "    <tr>\n",
       "      <th>...</th>\n",
       "      <td>...</td>\n",
       "      <td>...</td>\n",
       "      <td>...</td>\n",
       "      <td>...</td>\n",
       "      <td>...</td>\n",
       "      <td>...</td>\n",
       "      <td>...</td>\n",
       "      <td>...</td>\n",
       "      <td>...</td>\n",
       "    </tr>\n",
       "    <tr>\n",
       "      <th>83881</th>\n",
       "      <td>133676</td>\n",
       "      <td>twenties</td>\n",
       "      <td>female</td>\n",
       "      <td>us</td>\n",
       "      <td>\"The Star\" is better known as \"Twinkle Twinkle...</td>\n",
       "      <td>star better known as</td>\n",
       "      <td>fefdf541ed91b86082b064fe4b4de91161e654b7eb0aa5...</td>\n",
       "      <td>common_voice_en_18890858_23</td>\n",
       "      <td>([(0.0, 0.009999999999999787, 'padding', ''), ...</td>\n",
       "    </tr>\n",
       "    <tr>\n",
       "      <th>83882</th>\n",
       "      <td>133327</td>\n",
       "      <td>twenties</td>\n",
       "      <td>female</td>\n",
       "      <td>us</td>\n",
       "      <td>His works have been translated into fifteen la...</td>\n",
       "      <td>languages been translated</td>\n",
       "      <td>fefdf541ed91b86082b064fe4b4de91161e654b7eb0aa5...</td>\n",
       "      <td>common_voice_en_18890851_40</td>\n",
       "      <td>([(0.0, 0.009999999999999787, 'padding', ''), ...</td>\n",
       "    </tr>\n",
       "    <tr>\n",
       "      <th>83883</th>\n",
       "      <td>133682</td>\n",
       "      <td>twenties</td>\n",
       "      <td>female</td>\n",
       "      <td>us</td>\n",
       "      <td>\"The Star\" is better known as \"Twinkle Twinkle...</td>\n",
       "      <td>star as</td>\n",
       "      <td>fefdf541ed91b86082b064fe4b4de91161e654b7eb0aa5...</td>\n",
       "      <td>common_voice_en_18890858_29</td>\n",
       "      <td>([(0.0, 0.009999999999999787, 'padding', ''), ...</td>\n",
       "    </tr>\n",
       "    <tr>\n",
       "      <th>83884</th>\n",
       "      <td>133566</td>\n",
       "      <td>twenties</td>\n",
       "      <td>female</td>\n",
       "      <td>us</td>\n",
       "      <td>Featured animals include electric eel, chamber...</td>\n",
       "      <td>octopus</td>\n",
       "      <td>fefdf541ed91b86082b064fe4b4de91161e654b7eb0aa5...</td>\n",
       "      <td>common_voice_en_18890856_105</td>\n",
       "      <td>([(0.0, 0.06500000000000039, 'padding', ''), (...</td>\n",
       "    </tr>\n",
       "    <tr>\n",
       "      <th>83885</th>\n",
       "      <td>133378</td>\n",
       "      <td>twenties</td>\n",
       "      <td>female</td>\n",
       "      <td>us</td>\n",
       "      <td>He is the half brother of Broadway actress Kac...</td>\n",
       "      <td>sheik half</td>\n",
       "      <td>fefdf541ed91b86082b064fe4b4de91161e654b7eb0aa5...</td>\n",
       "      <td>common_voice_en_18890853_21</td>\n",
       "      <td>([(0.0, 0.040000000000000036, 'padding', ''), ...</td>\n",
       "    </tr>\n",
       "  </tbody>\n",
       "</table>\n",
       "<p>83886 rows × 9 columns</p>\n",
       "</div>"
      ],
      "text/plain": [
       "       Unnamed: 0.1       age  gender  accent  \\\n",
       "0             75927  fourties    male  canada   \n",
       "1           1478669  twenties    male  indian   \n",
       "2            340793   sixties    male      us   \n",
       "3            129304  thirties    male      us   \n",
       "4            114978  twenties    male      us   \n",
       "...             ...       ...     ...     ...   \n",
       "83881        133676  twenties  female      us   \n",
       "83882        133327  twenties  female      us   \n",
       "83883        133682  twenties  female      us   \n",
       "83884        133566  twenties  female      us   \n",
       "83885        133378  twenties  female      us   \n",
       "\n",
       "                                       original_sentence  \\\n",
       "0      The baronetcy is currently held by his grandso...   \n",
       "1      Only one speaker survives in Nepal, an elderly...   \n",
       "2           I’m too happy; and yet I’m not happy enough.   \n",
       "3      Over the next decade, the college added Africa...   \n",
       "4      During the American War of Independence the Go...   \n",
       "...                                                  ...   \n",
       "83881  \"The Star\" is better known as \"Twinkle Twinkle...   \n",
       "83882  His works have been translated into fifteen la...   \n",
       "83883  \"The Star\" is better known as \"Twinkle Twinkle...   \n",
       "83884  Featured animals include electric eel, chamber...   \n",
       "83885  He is the half brother of Broadway actress Kac...   \n",
       "\n",
       "                        sentence  \\\n",
       "0                  grandson john   \n",
       "1               only one speaker   \n",
       "2                 enough and yet   \n",
       "3          college added african   \n",
       "4           chester independence   \n",
       "...                          ...   \n",
       "83881       star better known as   \n",
       "83882  languages been translated   \n",
       "83883                    star as   \n",
       "83884                    octopus   \n",
       "83885                 sheik half   \n",
       "\n",
       "                                               client_id  \\\n",
       "0      eb005db5c7d0333c500a250c5a3551d95d93d62d4afbfc...   \n",
       "1      3b502c26e0b05c4f38b556d6f666397e50cf2152bea373...   \n",
       "2      953bbec74b68f4a24ca1c70200631938c6554133b64974...   \n",
       "3      a8ce1885a19d337fac4f60f2178f5f9f7d5b3c8e231437...   \n",
       "4      97c8ac97359d907568354048899b57c3caa29bc4bce205...   \n",
       "...                                                  ...   \n",
       "83881  fefdf541ed91b86082b064fe4b4de91161e654b7eb0aa5...   \n",
       "83882  fefdf541ed91b86082b064fe4b4de91161e654b7eb0aa5...   \n",
       "83883  fefdf541ed91b86082b064fe4b4de91161e654b7eb0aa5...   \n",
       "83884  fefdf541ed91b86082b064fe4b4de91161e654b7eb0aa5...   \n",
       "83885  fefdf541ed91b86082b064fe4b4de91161e654b7eb0aa5...   \n",
       "\n",
       "                           sound_id  \\\n",
       "0       common_voice_en_18721929_34   \n",
       "1        common_voice_en_18723654_8   \n",
       "2       common_voice_en_18548669_19   \n",
       "3        common_voice_en_18879914_4   \n",
       "4       common_voice_en_18843920_55   \n",
       "...                             ...   \n",
       "83881   common_voice_en_18890858_23   \n",
       "83882   common_voice_en_18890851_40   \n",
       "83883   common_voice_en_18890858_29   \n",
       "83884  common_voice_en_18890856_105   \n",
       "83885   common_voice_en_18890853_21   \n",
       "\n",
       "                                               intervals  \n",
       "0      ([(0.0, 0.015000000000000124, 'padding', ''), ...  \n",
       "1      ([(0.0, 0.020000000000000018, 'padding', ''), ...  \n",
       "2      ([(0.0, 0.025000000000000355, 'padding', ''), ...  \n",
       "3      ([(0.0, 0.03500000000000014, 'padding', ''), (...  \n",
       "4      ([(0.0, 0.019999999999999574, 'padding', ''), ...  \n",
       "...                                                  ...  \n",
       "83881  ([(0.0, 0.009999999999999787, 'padding', ''), ...  \n",
       "83882  ([(0.0, 0.009999999999999787, 'padding', ''), ...  \n",
       "83883  ([(0.0, 0.009999999999999787, 'padding', ''), ...  \n",
       "83884  ([(0.0, 0.06500000000000039, 'padding', ''), (...  \n",
       "83885  ([(0.0, 0.040000000000000036, 'padding', ''), ...  \n",
       "\n",
       "[83886 rows x 9 columns]"
      ]
     },
     "metadata": {},
     "output_type": "display_data"
    }
   ],
   "source": [
    "display(labels) #we get the accent, the gender, the age of the locutor, and the sentence"
   ]
  },
  {
   "cell_type": "code",
   "execution_count": 12,
   "metadata": {},
   "outputs": [
    {
     "data": {
      "text/plain": [
       "twenties     32793\n",
       "thirties     19751\n",
       "fourties     10584\n",
       "fifties       7810\n",
       "teens         6643\n",
       "sixties       4868\n",
       "seventies     1264\n",
       "nineties        89\n",
       "eighties        84\n",
       "Name: age, dtype: int64"
      ]
     },
     "execution_count": 12,
     "metadata": {},
     "output_type": "execute_result"
    }
   ],
   "source": [
    "labels['age'].value_counts()"
   ]
  },
  {
   "cell_type": "code",
   "execution_count": 13,
   "metadata": {},
   "outputs": [
    {
     "data": {
      "text/plain": [
       "male      43940\n",
       "female    39946\n",
       "Name: gender, dtype: int64"
      ]
     },
     "execution_count": 13,
     "metadata": {},
     "output_type": "execute_result"
    }
   ],
   "source": [
    "labels['gender'].value_counts()"
   ]
  },
  {
   "cell_type": "code",
   "execution_count": 14,
   "metadata": {},
   "outputs": [
    {
     "data": {
      "text/plain": [
       "us             43783\n",
       "indian         11029\n",
       "england        10111\n",
       "canada          7193\n",
       "australia       4329\n",
       "philippines     1282\n",
       "ireland         1135\n",
       "scotland        1017\n",
       "african         1010\n",
       "hongkong         770\n",
       "malaysia         662\n",
       "wales            425\n",
       "newzealand       423\n",
       "singapore        367\n",
       "other            283\n",
       "bermuda           67\n",
       "Name: accent, dtype: int64"
      ]
     },
     "execution_count": 14,
     "metadata": {},
     "output_type": "execute_result"
    }
   ],
   "source": [
    "labels['accent'].value_counts()"
   ]
  },
  {
   "cell_type": "code",
   "execution_count": 15,
   "metadata": {},
   "outputs": [
    {
     "data": {
      "text/plain": [
       "university              38\n",
       "street                  28\n",
       "technology              28\n",
       "california              20\n",
       "destination             17\n",
       "                        ..\n",
       "the battle for           1\n",
       "commune of the paris     1\n",
       "leaking                  1\n",
       "statistics guidance      1\n",
       "livestock his boys       1\n",
       "Name: sentence, Length: 68324, dtype: int64"
      ]
     },
     "execution_count": 15,
     "metadata": {},
     "output_type": "execute_result"
    }
   ],
   "source": [
    "labels['sentence'].value_counts()"
   ]
  },
  {
   "cell_type": "code",
   "execution_count": 16,
   "metadata": {
    "scrolled": true
   },
   "outputs": [
    {
     "data": {
      "text/plain": [
       "0        eb005db5c7d0333c500a250c5a3551d95d93d62d4afbfc...\n",
       "1        3b502c26e0b05c4f38b556d6f666397e50cf2152bea373...\n",
       "2        953bbec74b68f4a24ca1c70200631938c6554133b64974...\n",
       "3        a8ce1885a19d337fac4f60f2178f5f9f7d5b3c8e231437...\n",
       "4        97c8ac97359d907568354048899b57c3caa29bc4bce205...\n",
       "                               ...                        \n",
       "81961    f8aeba2aeff7b503811c0e31c76dba7865837f19b44c77...\n",
       "82346    f8eac24c10bd04b053c0d25c25e83f04211757d55655e5...\n",
       "82731    f8f76b94170a19421464ac1a3b62a926edae4cb12a0a39...\n",
       "83116    fcb16bb0d63a8ef9999d7f8c2c0667ed7e9db67563df59...\n",
       "83501    fefdf541ed91b86082b064fe4b4de91161e654b7eb0aa5...\n",
       "Name: client_id, Length: 697, dtype: object"
      ]
     },
     "execution_count": 16,
     "metadata": {},
     "output_type": "execute_result"
    }
   ],
   "source": [
    "labels['client_id'].drop_duplicates() # seems to be the directory in the 'sample' directory\n",
    "#related to batch size ?"
   ]
  },
  {
   "cell_type": "markdown",
   "metadata": {},
   "source": [
    "# 4. Data preprocessing"
   ]
  },
  {
   "cell_type": "markdown",
   "metadata": {},
   "source": [
    "### 1. Discrete Fourier Transform => spectrogram"
   ]
  },
  {
   "cell_type": "code",
   "execution_count": 17,
   "metadata": {},
   "outputs": [
    {
     "data": {
      "text/plain": [
       "Text(0.5, 1.0, 'Fourier Tranformation of the signal (dB)')"
      ]
     },
     "execution_count": 17,
     "metadata": {},
     "output_type": "execute_result"
    },
    {
     "data": {
      "image/png": "[encoded data removed]",
      "text/plain": [
       "<Figure size 432x288 with 2 Axes>"
      ]
     },
     "metadata": {
      "needs_background": "light"
     },
     "output_type": "display_data"
    }
   ],
   "source": [
    "# compute spectrogramm\n",
    "fourier = librosa.stft(data)\n",
    "fourier_db = librosa.amplitude_to_db(np.abs(fourier), ref=np.max)\n",
    "\n",
    "# plot of the fourier transform\n",
    "plt.figure()\n",
    "librosa.display.specshow(fourier_db, x_axis='time', y_axis='linear')\n",
    "plt.colorbar()\n",
    "plt.title(\"Fourier Tranformation of the signal (dB)\")"
   ]
  },
  {
   "cell_type": "markdown",
   "metadata": {},
   "source": [
    "### 2. MFCC (Mel-Frequency Cepstral Coefficients)"
   ]
  },
  {
   "cell_type": "code",
   "execution_count": 58,
   "metadata": {},
   "outputs": [
    {
     "data": {
      "text/plain": [
       "Text(0.5, 1.0, 'MFCC of the signal (db)')"
      ]
     },
     "execution_count": 58,
     "metadata": {},
     "output_type": "execute_result"
    },
    {
     "data": {
      "image/png": "[encoded data removed]",
      "text/plain": [
       "<Figure size 432x288 with 2 Axes>"
      ]
     },
     "metadata": {
      "needs_background": "light"
     },
     "output_type": "display_data"
    }
   ],
   "source": [
    "# compute MFCC\n",
    "mfcc = librosa.feature.mfcc(data, n_mfcc=49, sr=samplerate)\n",
    "mfcc_db = librosa.amplitude_to_db(np.abs(mfcc), ref=np.max)\n",
    "\n",
    "# plot of the fourier transform\n",
    "plt.figure()\n",
    "librosa.display.specshow(mfcc_db, x_axis='time', y_axis='linear')\n",
    "plt.colorbar()\n",
    "plt.title(\"MFCC of the signal (db)\")"
   ]
  },
  {
   "cell_type": "code",
   "execution_count": 19,
   "metadata": {},
   "outputs": [
    {
     "data": {
      "text/plain": [
       "(49, 22)"
      ]
     },
     "execution_count": 19,
     "metadata": {},
     "output_type": "execute_result"
    }
   ],
   "source": [
    "mfcc.shape # 49 MFCC coefficients, with 22 values each "
   ]
  },
  {
   "cell_type": "markdown",
   "metadata": {},
   "source": [
    "# 5. Preprocessed Data"
   ]
  },
  {
   "cell_type": "code",
   "execution_count": 59,
   "metadata": {
    "scrolled": true
   },
   "outputs": [],
   "source": [
    "# load preprocessed data\n",
    "mfcc = np.load(npy_file)"
   ]
  },
  {
   "cell_type": "code",
   "execution_count": 60,
   "metadata": {},
   "outputs": [
    {
     "data": {
      "text/plain": [
       "array([[  0.       ,  -0.3267746,  -0.6677246, ...,  -5.4254646,\n",
       "         -4.5478287,  -2.3118134],\n",
       "       [-51.590076 , -26.21531  , -20.994526 , ..., -34.597813 ,\n",
       "        -35.98796  , -38.692005 ],\n",
       "       [-51.596397 , -29.097036 , -25.870544 , ..., -27.343761 ,\n",
       "        -28.910168 , -43.97668  ],\n",
       "       ...,\n",
       "       [-56.372158 , -78.84751  , -49.723557 , ..., -40.477295 ,\n",
       "        -39.98992  , -47.725174 ],\n",
       "       [-56.599636 , -57.175312 , -55.13417  , ..., -49.09376  ,\n",
       "        -59.967518 , -61.70425  ],\n",
       "       [-56.833744 , -56.046593 , -50.231766 , ..., -40.41732  ,\n",
       "        -53.16556  , -72.69984  ]], dtype=float32)"
      ]
     },
     "execution_count": 60,
     "metadata": {},
     "output_type": "execute_result"
    }
   ],
   "source": [
    "mfcc_db"
   ]
  },
  {
   "cell_type": "code",
   "execution_count": 61,
   "metadata": {},
   "outputs": [
    {
     "data": {
      "text/plain": [
       "(49, 39)"
      ]
     },
     "execution_count": 61,
     "metadata": {},
     "output_type": "execute_result"
    }
   ],
   "source": [
    "mfcc.shape #49 mfcc coeff, 39 samples why not 22 also ?"
   ]
  },
  {
   "cell_type": "code",
   "execution_count": 63,
   "metadata": {
    "scrolled": true
   },
   "outputs": [
    {
     "data": {
      "text/plain": [
       "Text(0.5, 1.0, 'MFCC of the signal (db)')"
      ]
     },
     "execution_count": 63,
     "metadata": {},
     "output_type": "execute_result"
    },
    {
     "data": {
      "image/png": "[encoded data removed]",
      "text/plain": [
       "<Figure size 432x288 with 2 Axes>"
      ]
     },
     "metadata": {
      "needs_background": "light"
     },
     "output_type": "display_data"
    }
   ],
   "source": [
    "mfcc_db = librosa.amplitude_to_db(np.abs(mfcc), ref=np.max)\n",
    "\n",
    "# plot of the fourier transform\n",
    "plt.figure()\n",
    "librosa.display.specshow(mfcc_db, x_axis='time', y_axis='linear', sr=samplerate)\n",
    "plt.colorbar()\n",
    "plt.title(\"MFCC of the signal (db)\")"
   ]
  },
  {
   "cell_type": "code",
   "execution_count": 56,
   "metadata": {},
   "outputs": [],
   "source": [
    "# why not the same time axis ??? Maybe not the same sample rate taken \n",
    "# Would be great to know how this was computed, otherwise we can recompute it (think a bout a preprocess script)"
   ]
  },
  {
   "cell_type": "code",
   "execution_count": 26,
   "metadata": {
    "scrolled": true
   },
   "outputs": [
    {
     "data": {
      "text/plain": [
       "'common_voice_en_62600_0'"
      ]
     },
     "execution_count": 26,
     "metadata": {},
     "output_type": "execute_result"
    }
   ],
   "source": [
    "file"
   ]
  },
  {
   "cell_type": "code",
   "execution_count": 30,
   "metadata": {},
   "outputs": [
    {
     "data": {
      "text/plain": [
       "4085    ([(0.0, 0.040000000000000036, 'padding', ''), ...\n",
       "Name: intervals, dtype: object"
      ]
     },
     "execution_count": 30,
     "metadata": {},
     "output_type": "execute_result"
    }
   ],
   "source": [
    "labels['intervals'].loc[labels.sound_id==file]"
   ]
  },
  {
   "cell_type": "code",
   "execution_count": null,
   "metadata": {},
   "outputs": [],
   "source": []
  },
  {
   "cell_type": "code",
   "execution_count": null,
   "metadata": {},
   "outputs": [],
   "source": []
  },
  {
   "cell_type": "code",
   "execution_count": null,
   "metadata": {},
   "outputs": [],
   "source": []
  },
  {
   "cell_type": "code",
   "execution_count": null,
   "metadata": {},
   "outputs": [],
   "source": []
  }
 ],
 "metadata": {
  "kernelspec": {
   "display_name": "Python 3",
   "language": "python",
   "name": "python3"
  },
  "language_info": {
   "codemirror_mode": {
    "name": "ipython",
    "version": 3
   },
   "file_extension": ".py",
   "mimetype": "text/x-python",
   "name": "python",
   "nbconvert_exporter": "python",
   "pygments_lexer": "ipython3",
   "version": "3.8.5"
  }
 },
 "nbformat": 4,
 "nbformat_minor": 4
}
