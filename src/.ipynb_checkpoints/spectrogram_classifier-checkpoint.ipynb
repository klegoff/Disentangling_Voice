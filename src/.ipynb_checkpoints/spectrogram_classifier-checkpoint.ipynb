{
 "cells": [
  {
   "cell_type": "raw",
   "metadata": {},
   "source": [
    "Goal of the script : run a classifier over the spectrograms, \n",
    "to determine values for our variables ('age','accent','gender')\n",
    "try them on the shifted dataset"
   ]
  },
  {
   "cell_type": "markdown",
   "metadata": {},
   "source": [
    "# 0. Functions import"
   ]
  },
  {
   "cell_type": "code",
   "execution_count": 3,
   "metadata": {},
   "outputs": [
    {
     "name": "stdout",
     "output_type": "stream",
     "text": [
      "Reading package lists... Done\n",
      "Building dependency tree       \n",
      "Reading state information... Done\n",
      "libsndfile1 is already the newest version (1.0.28-4ubuntu0.18.04.1).\n",
      "0 upgraded, 0 newly installed, 0 to remove and 8 not upgraded.\n"
     ]
    }
   ],
   "source": [
    "!apt-get install libsndfile1 -y"
   ]
  },
  {
   "cell_type": "code",
   "execution_count": 1,
   "metadata": {},
   "outputs": [],
   "source": [
    "import sys,os\n",
    "sys.path.append('../src/')\n",
    "sys.path.append('../src_charly/')\n",
    "\n",
    "import numpy as np\n",
    "#import glob2\n",
    "#import joblib\n",
    "import pathlib\n",
    "from scipy.io.wavfile import write as write_waveform\n",
    "from collections import OrderedDict\n",
    "import matplotlib.pyplot as plt\n",
    "#import seaborn as sns\n",
    "import pickle\n",
    "import pandas as pd\n",
    "\n",
    "import torch\n",
    "import torch.nn.functional as F\n",
    "import torch.nn as nn\n",
    "from torch import optim\n",
    "\n",
    "from sklearn.metrics import accuracy_score\n",
    "\n",
    "from spectrogram_stream import SpectrogramStream\n",
    "from autoencoders import ConvolutionalAutoencoder\n",
    "from encoders import ConvolutionalEncoder\n",
    "from bottlenecks import ConvolutionalBottleneck\n",
    "from reconstructors import ConvolutionalDecoder\n",
    "from visualization import spectrogram_to_waveform, compute_reconstruction_plot"
   ]
  },
  {
   "cell_type": "code",
   "execution_count": 2,
   "metadata": {},
   "outputs": [],
   "source": [
    "from models import spectrogram_model"
   ]
  },
  {
   "cell_type": "markdown",
   "metadata": {},
   "source": [
    "# 1. Data loading"
   ]
  },
  {
   "cell_type": "code",
   "execution_count": 3,
   "metadata": {},
   "outputs": [],
   "source": [
    "data_path = '../data'\n",
    "models_path = '../models'\n",
    "experiment_name = 'dataset2filtered_b64_baseline_larger_l1'\n",
    "results_path = os.path.join('results', experiment_name)\n",
    "frame_step = 46\n",
    "n_iter = 300\n",
    "sampling_rate = 16000\n",
    "n_batch = 10 # batch size\n",
    "n_epochs = 10 # epochs for training\n",
    "test_train_split = 0.8\n",
    "device = torch.device(\"cuda:0\" if torch.cuda.is_available() else \"cpu\")"
   ]
  },
  {
   "cell_type": "code",
   "execution_count": 82,
   "metadata": {},
   "outputs": [],
   "source": [
    "#load labels\n",
    "label_df = pd.read_csv(\"../data/labels.tsv\", sep='\\t').drop(columns=\"Unnamed: 0\").set_index(\"sound_id\")"
   ]
  },
  {
   "cell_type": "code",
   "execution_count": 87,
   "metadata": {
    "scrolled": true
   },
   "outputs": [
    {
     "name": "stdout",
     "output_type": "stream",
     "text": [
      "Loading Spectrogram dataset...\n",
      "Number of samples detected: 39718\n",
      "Spectrogram dataset initialized.\n",
      "Building Spectrogram dataloaders...\n",
      "Building the data splitter...\n",
      "Building the train data loader...\n",
      "Train loader size: 3178\n",
      "Building the test data loader...\n",
      "Test loader size: 795\n",
      "Spectrogram dataloaders built successfully\n"
     ]
    }
   ],
   "source": [
    "# load data stream\n",
    "stream = SpectrogramStream(root_path=data_path, batch_size=n_batch,test_train_split=test_train_split, val_train_split=0.0, subsets_to_load=['train','test'], sr=sampling_rate)\n",
    "\n",
    "#for w in range(len(stream.train_loader)) :#get training data (step by step)\n",
    "    #data = next(iter(stream.train_loader))['sound'].unsqueeze(1).float()\n",
    "    #spectrograms = data['sound'].unsqueeze(1).float().to(device)"
   ]
  },
  {
   "cell_type": "markdown",
   "metadata": {},
   "source": [
    "# 2. Model training"
   ]
  },
  {
   "cell_type": "code",
   "execution_count": 17,
   "metadata": {},
   "outputs": [],
   "source": [
    "# instantiate model\n",
    "model = spectrogram_model(2)\n",
    "model.to(device)\n",
    "\n",
    "# optimization and loss\n",
    "criterion = nn.CrossEntropyLoss()\n",
    "optimizer = optim.SGD(model.parameters(), lr=0.001, momentum=0.9)"
   ]
  },
  {
   "cell_type": "code",
   "execution_count": 18,
   "metadata": {
    "scrolled": true
   },
   "outputs": [
    {
     "name": "stdout",
     "output_type": "stream",
     "text": [
      "Epoch N° 0  batch n° 0  running loss =  0.0014781877994537354\n"
     ]
    },
    {
     "name": "stderr",
     "output_type": "stream",
     "text": [
      "Exception ignored in: <function _MultiProcessingDataLoaderIter.__del__ at 0x7f0cdf422c10>\n",
      "Traceback (most recent call last):\n",
      "  File \"/home/klegoff/.local/lib/python3.8/site-packages/torch/utils/data/dataloader.py\", line 1203, in __del__\n",
      "    self._shutdown_workers()\n",
      "  File \"/home/klegoff/.local/lib/python3.8/site-packages/torch/utils/data/dataloader.py\", line 1177, in _shutdown_workers\n",
      "    w.join(timeout=_utils.MP_STATUS_CHECK_INTERVAL)\n",
      "  File \"/usr/lib/python3.8/multiprocessing/process.py\", line 149, in join\n",
      "    res = self._popen.wait(timeout)\n",
      "  File \"/usr/lib/python3.8/multiprocessing/popen_fork.py\", line 44, in wait\n",
      "    if not wait([self.sentinel], timeout):\n",
      "  File \"/usr/lib/python3.8/multiprocessing/connection.py\", line 931, in wait\n",
      "    ready = selector.select(timeout)\n",
      "  File \"/usr/lib/python3.8/selectors.py\", line 415, in select\n",
      "    fd_event_list = self._selector.poll(timeout)\n",
      "KeyboardInterrupt: \n"
     ]
    },
    {
     "ename": "KeyboardInterrupt",
     "evalue": "",
     "output_type": "error",
     "traceback": [
      "\u001b[0;31m---------------------------------------------------------------------------\u001b[0m",
      "\u001b[0;31mKeyboardInterrupt\u001b[0m                         Traceback (most recent call last)",
      "\u001b[0;32m<ipython-input-18-4830034fed38>\u001b[0m in \u001b[0;36m<module>\u001b[0;34m\u001b[0m\n\u001b[1;32m     26\u001b[0m         \u001b[0moptimizer\u001b[0m\u001b[0;34m.\u001b[0m\u001b[0mstep\u001b[0m\u001b[0;34m(\u001b[0m\u001b[0;34m)\u001b[0m\u001b[0;34m\u001b[0m\u001b[0;34m\u001b[0m\u001b[0m\n\u001b[1;32m     27\u001b[0m \u001b[0;34m\u001b[0m\u001b[0m\n\u001b[0;32m---> 28\u001b[0;31m         \u001b[0mrunning_loss\u001b[0m \u001b[0;34m+=\u001b[0m \u001b[0mloss\u001b[0m\u001b[0;34m.\u001b[0m\u001b[0mitem\u001b[0m\u001b[0;34m(\u001b[0m\u001b[0;34m)\u001b[0m\u001b[0;34m\u001b[0m\u001b[0;34m\u001b[0m\u001b[0m\n\u001b[0m\u001b[1;32m     29\u001b[0m \u001b[0;34m\u001b[0m\u001b[0m\n\u001b[1;32m     30\u001b[0m         \u001b[0;32mif\u001b[0m \u001b[0mw\u001b[0m\u001b[0;34m%\u001b[0m\u001b[0;36m500\u001b[0m \u001b[0;34m==\u001b[0m \u001b[0;36m0\u001b[0m\u001b[0;34m:\u001b[0m\u001b[0;34m\u001b[0m\u001b[0;34m\u001b[0m\u001b[0m\n",
      "\u001b[0;31mKeyboardInterrupt\u001b[0m: "
     ]
    }
   ],
   "source": [
    "# model training\n",
    "for epoch in range(n_epochs):\n",
    "    running_loss = 0\n",
    "    for w in range(len(stream.train_loader)) :#get training data (step by step)\n",
    "        data = next(iter(stream.train_loader))\n",
    "        sound = data['sound'].unsqueeze(1).float().to(device)\n",
    "        sound_id = data['sound_id']\n",
    "\n",
    "        # target values for the chosen variable \n",
    "        var = \"gender\"\n",
    "        target_mod = pd.DataFrame([],index=sound_id).merge(label_df[[var]], left_index=True, right_index=True)[var].values\n",
    "        #target = torch.Tensor(np.zeros((10,3)))\n",
    "        #for i in range(len(target_mod)):\n",
    "        #    target[i][target_mod[i]] = 1\n",
    "        target_mod = torch.Tensor(target_mod).long().to(device)\n",
    "        \n",
    "        # zero the parameter gradients\n",
    "        optimizer.zero_grad()\n",
    "\n",
    "        # compute output\n",
    "        output = model(sound)\n",
    "\n",
    "        # loss computation and propagation\n",
    "        loss = criterion(output, target_mod)\n",
    "        loss.backward()\n",
    "        optimizer.step()\n",
    "\n",
    "        running_loss += loss.item()\n",
    "        \n",
    "        if w%500 == 0:\n",
    "            print(\"Epoch N°\", epoch, \" batch n°\", w, \" running loss = \", running_loss/500)\n",
    "            running_loss = 0\n",
    "        "
   ]
  },
  {
   "cell_type": "code",
   "execution_count": 64,
   "metadata": {},
   "outputs": [],
   "source": [
    "save = True\n",
    "if save :\n",
    "    torch.save(model.state_dict(), \"spectrogram_\" + var + \"_classifier.statedict\")\n",
    "else :\n",
    "    state_dict = torch.load(\"spectrogram_\" + var +\"_classifier.statedict\")"
   ]
  },
  {
   "cell_type": "markdown",
   "metadata": {},
   "source": [
    "# 3. Model Evaluation"
   ]
  },
  {
   "cell_type": "markdown",
   "metadata": {},
   "source": [
    "## 1. Load Model"
   ]
  },
  {
   "cell_type": "code",
   "execution_count": 15,
   "metadata": {},
   "outputs": [
    {
     "name": "stdout",
     "output_type": "stream",
     "text": [
      "data\t\t\t\tsound_id.pickle\r\n",
      "latent_space_exploration.ipynb\tspectrogram_age_classifier.statedict\r\n",
      "models\t\t\t\tspectrogram_classifier.ipynb\r\n",
      "models.py\t\t\tspectrogram_gender_classifier.statedict\r\n",
      "projection.pickle\t\tsrc\r\n",
      "__pycache__\t\t\ttsne_df.pickle\r\n",
      "results\r\n"
     ]
    }
   ],
   "source": [
    "!ls"
   ]
  },
  {
   "cell_type": "code",
   "execution_count": 83,
   "metadata": {},
   "outputs": [],
   "source": [
    "var = \"gender\" # \"age\", \"accent\""
   ]
  },
  {
   "cell_type": "code",
   "execution_count": 11,
   "metadata": {},
   "outputs": [
    {
     "name": "stdout",
     "output_type": "stream",
     "text": [
      "Loading Spectrogram dataset...\n",
      "Number of samples detected: 39718\n",
      "Spectrogram dataset initialized.\n",
      "Building Spectrogram dataloaders...\n",
      "Building the data splitter...\n",
      "Building the train data loader...\n",
      "Train loader size: 3178\n",
      "Building the test data loader...\n",
      "Test loader size: 795\n",
      "Spectrogram dataloaders built successfully\n"
     ]
    }
   ],
   "source": [
    "# load the corresponding model\n",
    "label_df[var + \"_prediction\"] = -1\n",
    "model = spectrogram_model(2) # for gender : 2, for age : 3, for accent 15\n",
    "model.load_state_dict(torch.load(\"models/spectrogram_\" + var +\"_classifier.statedict\"))\n",
    "device = \"cpu\"\n",
    "\n",
    "# load data\n",
    "stream = SpectrogramStream(root_path=data_path, batch_size=n_batch,test_train_split=test_train_split, val_train_split=0.0, subsets_to_load=['train','test'], sr=sampling_rate)"
   ]
  },
  {
   "cell_type": "markdown",
   "metadata": {},
   "source": [
    "## 2. Predict on test"
   ]
  },
  {
   "cell_type": "code",
   "execution_count": 85,
   "metadata": {},
   "outputs": [
    {
     "name": "stderr",
     "output_type": "stream",
     "text": [
      "/home/klegoff/.local/lib/python3.8/site-packages/pandas/core/indexing.py:670: SettingWithCopyWarning: \n",
      "A value is trying to be set on a copy of a slice from a DataFrame\n",
      "\n",
      "See the caveats in the documentation: https://pandas.pydata.org/pandas-docs/stable/user_guide/indexing.html#returning-a-view-versus-a-copy\n",
      "  iloc._setitem_with_indexer(indexer, value)\n",
      "Traceback (most recent call last):\n",
      "  File \"/usr/lib/python3.8/multiprocessing/queues.py\", line 235, in _feed\n",
      "    close()\n",
      "  File \"/usr/lib/python3.8/multiprocessing/connection.py\", line 177, in close\n",
      "    self._close()\n",
      "  File \"/usr/lib/python3.8/multiprocessing/connection.py\", line 361, in _close\n",
      "    _close(self._handle)\n",
      "OSError: [Errno 9] Bad file descriptor\n"
     ]
    }
   ],
   "source": [
    "# Make prediction to test the model\n",
    "\n",
    "for w in range(len(stream.test_loader)) :#get test data (step by step)\n",
    "    data = next(iter(stream.test_loader))\n",
    "    sound = data['sound'].unsqueeze(1).float().to(device)\n",
    "    sound_id = data['sound_id']\n",
    "\n",
    "    # target values for the chosen variable \n",
    "    target_mod = pd.DataFrame([],index=sound_id).merge(label_df[[var]], left_index=True, right_index=True)[var].values\n",
    "    #target = torch.Tensor(np.zeros((10,3)))\n",
    "    #for i in range(len(target_mod)):\n",
    "    #    target[i][target_mod[i]] = 1\n",
    "    #target_mod = torch.Tensor(target_mod).long().to(device)\n",
    "\n",
    "    # compute output\n",
    "    output = model(sound)\n",
    "    \n",
    "    pred = torch.argmax(output, dim = 1)\n",
    "    \n",
    "    for i in range(len(sound_id)):\n",
    "        label_df[var + \"_prediction\"].loc[label_df.index == sound_id[i]] = pred[i].item()"
   ]
  },
  {
   "cell_type": "markdown",
   "metadata": {},
   "source": [
    "## 3. Analyze predictions"
   ]
  },
  {
   "cell_type": "markdown",
   "metadata": {},
   "source": [
    "### 1. Gender prediction"
   ]
  },
  {
   "cell_type": "code",
   "execution_count": 86,
   "metadata": {
    "scrolled": true
   },
   "outputs": [
    {
     "data": {
      "text/plain": [
       "-1    34707\n",
       " 0     2998\n",
       " 1     2013\n",
       "Name: gender_prediction, dtype: int64"
      ]
     },
     "execution_count": 86,
     "metadata": {},
     "output_type": "execute_result"
    }
   ],
   "source": [
    "label_df.gender_prediction.value_counts() # -1 values for prediction, correspond to the element of the training set (on which we do not predict)"
   ]
  },
  {
   "cell_type": "code",
   "execution_count": 87,
   "metadata": {},
   "outputs": [
    {
     "data": {
      "text/html": [
       "<div>\n",
       "<style scoped>\n",
       "    .dataframe tbody tr th:only-of-type {\n",
       "        vertical-align: middle;\n",
       "    }\n",
       "\n",
       "    .dataframe tbody tr th {\n",
       "        vertical-align: top;\n",
       "    }\n",
       "\n",
       "    .dataframe thead th {\n",
       "        text-align: right;\n",
       "    }\n",
       "</style>\n",
       "<table border=\"1\" class=\"dataframe\">\n",
       "  <thead>\n",
       "    <tr style=\"text-align: right;\">\n",
       "      <th>gender_prediction</th>\n",
       "      <th>0</th>\n",
       "      <th>1</th>\n",
       "    </tr>\n",
       "    <tr>\n",
       "      <th>gender</th>\n",
       "      <th></th>\n",
       "      <th></th>\n",
       "    </tr>\n",
       "  </thead>\n",
       "  <tbody>\n",
       "    <tr>\n",
       "      <th>0</th>\n",
       "      <td>2779</td>\n",
       "      <td>400</td>\n",
       "    </tr>\n",
       "    <tr>\n",
       "      <th>1</th>\n",
       "      <td>219</td>\n",
       "      <td>1613</td>\n",
       "    </tr>\n",
       "  </tbody>\n",
       "</table>\n",
       "</div>"
      ],
      "text/plain": [
       "gender_prediction     0     1\n",
       "gender                       \n",
       "0                  2779   400\n",
       "1                   219  1613"
      ]
     },
     "execution_count": 87,
     "metadata": {},
     "output_type": "execute_result"
    }
   ],
   "source": [
    "# confusion matrix\n",
    "pd.crosstab(label_df.gender, label_df.gender_prediction).iloc[:,1:]"
   ]
  },
  {
   "cell_type": "code",
   "execution_count": 88,
   "metadata": {},
   "outputs": [
    {
     "data": {
      "text/plain": [
       "0.8764717621233287"
      ]
     },
     "execution_count": 88,
     "metadata": {},
     "output_type": "execute_result"
    }
   ],
   "source": [
    "# accuracy\n",
    "y_true = label_df.gender.loc[label_df.gender_prediction != -1]\n",
    "y_pred = label_df.gender_prediction.loc[label_df.gender_prediction != -1]\n",
    "\n",
    "accuracy_score(y_true, y_pred)"
   ]
  },
  {
   "cell_type": "markdown",
   "metadata": {},
   "source": [
    "### 2. Age prediction"
   ]
  },
  {
   "cell_type": "code",
   "execution_count": 75,
   "metadata": {},
   "outputs": [
    {
     "data": {
      "text/plain": [
       "-1    34694\n",
       " 1     4629\n",
       " 0      395\n",
       "Name: age_prediction, dtype: int64"
      ]
     },
     "execution_count": 75,
     "metadata": {},
     "output_type": "execute_result"
    }
   ],
   "source": [
    "label_df.age_prediction.value_counts() # -1 values for prediction, correspond to the element of the training set (on which we do not predict)"
   ]
  },
  {
   "cell_type": "code",
   "execution_count": 76,
   "metadata": {},
   "outputs": [
    {
     "data": {
      "text/html": [
       "<div>\n",
       "<style scoped>\n",
       "    .dataframe tbody tr th:only-of-type {\n",
       "        vertical-align: middle;\n",
       "    }\n",
       "\n",
       "    .dataframe tbody tr th {\n",
       "        vertical-align: top;\n",
       "    }\n",
       "\n",
       "    .dataframe thead th {\n",
       "        text-align: right;\n",
       "    }\n",
       "</style>\n",
       "<table border=\"1\" class=\"dataframe\">\n",
       "  <thead>\n",
       "    <tr style=\"text-align: right;\">\n",
       "      <th>age_prediction</th>\n",
       "      <th>0</th>\n",
       "      <th>1</th>\n",
       "    </tr>\n",
       "    <tr>\n",
       "      <th>age</th>\n",
       "      <th></th>\n",
       "      <th></th>\n",
       "    </tr>\n",
       "  </thead>\n",
       "  <tbody>\n",
       "    <tr>\n",
       "      <th>0</th>\n",
       "      <td>213</td>\n",
       "      <td>1999</td>\n",
       "    </tr>\n",
       "    <tr>\n",
       "      <th>1</th>\n",
       "      <td>179</td>\n",
       "      <td>2558</td>\n",
       "    </tr>\n",
       "    <tr>\n",
       "      <th>2</th>\n",
       "      <td>3</td>\n",
       "      <td>72</td>\n",
       "    </tr>\n",
       "  </tbody>\n",
       "</table>\n",
       "</div>"
      ],
      "text/plain": [
       "age_prediction    0     1\n",
       "age                      \n",
       "0               213  1999\n",
       "1               179  2558\n",
       "2                 3    72"
      ]
     },
     "execution_count": 76,
     "metadata": {},
     "output_type": "execute_result"
    }
   ],
   "source": [
    "# confusion matrix\n",
    "pd.crosstab(label_df.age, label_df.age_prediction).iloc[:,1:]"
   ]
  },
  {
   "cell_type": "code",
   "execution_count": 78,
   "metadata": {},
   "outputs": [
    {
     "data": {
      "text/plain": [
       "0.5515525477707006"
      ]
     },
     "execution_count": 78,
     "metadata": {},
     "output_type": "execute_result"
    }
   ],
   "source": [
    "# accuracy\n",
    "y_true = label_df.age.loc[label_df.age_prediction != -1]\n",
    "y_pred = label_df.age_prediction.loc[label_df.age_prediction != -1]\n",
    "\n",
    "accuracy_score(y_true, y_pred) # accuracy is not very good (probably the age feature is irrelevant or not well defined)"
   ]
  },
  {
   "cell_type": "markdown",
   "metadata": {},
   "source": [
    "# 4. Predict on rigged data"
   ]
  },
  {
   "cell_type": "markdown",
   "metadata": {},
   "source": [
    "## 4.1. Compute prediction over rigged data"
   ]
  },
  {
   "cell_type": "code",
   "execution_count": 4,
   "metadata": {},
   "outputs": [],
   "source": [
    "def predict(var, shifted_file):\n",
    "    \n",
    "    # load model to predict on the variable\n",
    "    if var == \"gender\":\n",
    "        model = spectrogram_model(2) # for gender : 2, for age : 3, for accent 15\n",
    "    else : \n",
    "        model = spectrogram_model(3) # for gender : 2, for age : 3, for accent 15\n",
    "\n",
    "    model.load_state_dict(torch.load(\"../models/spectrogram_\" + var +\"_classifier.statedict\"))\n",
    "    device = \"cuda:0\"\n",
    "    model = model.to(device)\n",
    "    \n",
    "    # load shifted dataset\n",
    "    spectrogram = pickle.load(open(\"../data/reconstructed/\" + shifted_file,\"rb\"))\n",
    "    \n",
    "    if spectrogram.shape[0] != 39700:\n",
    "        print(\"len problem\")\n",
    "        return None\n",
    "    \n",
    "    spectrogram = torch.tensor(spectrogram)\n",
    "    \n",
    "    pred = []\n",
    "    for n in range(80):\n",
    "        if n%10==0:\n",
    "            print(n)\n",
    "\n",
    "        torch.cuda.empty_cache()\n",
    "\n",
    "        data = spectrogram[500*n:500*(n+1)].to(device)\n",
    "\n",
    "        with torch.no_grad():\n",
    "            out = model.forward(data)\n",
    "\n",
    "        pred.append(torch.argmax(out, dim = 1).to(\"cpu\"))\n",
    "    return torch.cat(pred)"
   ]
  },
  {
   "cell_type": "code",
   "execution_count": 18,
   "metadata": {},
   "outputs": [],
   "source": [
    "files = os.listdir(\"../data/reconstructed/\")\n",
    "ids = pickle.load(open(\"../data/sound_id.pickle\",\"rb\"))\n",
    "#load labels\n",
    "label_df = pd.read_csv(\"../data/labels.tsv\", sep='\\t').drop(columns=\"Unnamed: 0\").set_index(\"sound_id\")"
   ]
  },
  {
   "cell_type": "code",
   "execution_count": 7,
   "metadata": {},
   "outputs": [],
   "source": [
    "pred_list = []"
   ]
  },
  {
   "cell_type": "code",
   "execution_count": 8,
   "metadata": {},
   "outputs": [
    {
     "name": "stdout",
     "output_type": "stream",
     "text": [
      "0\n",
      "10\n",
      "20\n",
      "30\n",
      "40\n",
      "50\n",
      "60\n",
      "70\n",
      "0\n",
      "10\n",
      "20\n",
      "30\n",
      "40\n",
      "50\n",
      "60\n",
      "70\n",
      "0\n",
      "10\n",
      "20\n",
      "30\n",
      "40\n",
      "50\n",
      "60\n",
      "70\n",
      "0\n",
      "10\n",
      "20\n",
      "30\n",
      "40\n",
      "50\n",
      "60\n",
      "70\n",
      "len problem\n",
      "0\n",
      "10\n",
      "20\n",
      "30\n",
      "40\n",
      "50\n",
      "60\n",
      "70\n",
      "0\n",
      "10\n",
      "20\n",
      "30\n",
      "40\n",
      "50\n",
      "60\n",
      "70\n"
     ]
    }
   ],
   "source": [
    "for file in files:\n",
    "    \n",
    "    if \"gender\" in file:\n",
    "        var = \"gender\"\n",
    "    else :\n",
    "        var = \"age\"\n",
    "    \n",
    "    #label_df[var + \"_shift\" + file[-9:-7]]\n",
    "    pred = predict(var, file)\n",
    "    if type(pred) == type(None):\n",
    "        pass\n",
    "    else :\n",
    "        # add the predicted attributes in the label_df\n",
    "        pred_list.append(pd.DataFrame(pred, index = ids[:len(pred)],columns=[var + \"_shift\" + file[-9:-7]]))\n",
    "    \n",
    "        #label_df = label_df.merge(pred_df,right_index=True,left_index=True)"
   ]
  },
  {
   "cell_type": "code",
   "execution_count": 10,
   "metadata": {},
   "outputs": [],
   "source": [
    "#pickle.dump(pred_list, open(\"../data/pred_list.pickle\",\"wb\"))"
   ]
  },
  {
   "cell_type": "code",
   "execution_count": 59,
   "metadata": {},
   "outputs": [],
   "source": [
    "for pred in pred_list:\n",
    "    new_col = pred.columns[0]\n",
    "    label_df[new_col] = -1\n",
    "    \n",
    "    label_df[new_col].iloc[:39700] = pred.values.reshape(39700)"
   ]
  },
  {
   "cell_type": "code",
   "execution_count": 63,
   "metadata": {},
   "outputs": [],
   "source": [
    "label_df.to_csv(\"label_df.csv\")"
   ]
  },
  {
   "cell_type": "markdown",
   "metadata": {},
   "source": [
    "## 4.2. Analyze prediction"
   ]
  },
  {
   "cell_type": "code",
   "execution_count": 77,
   "metadata": {},
   "outputs": [
    {
     "data": {
      "text/plain": [
       "1    36525\n",
       "0     3175\n",
       "Name: age_shift12, dtype: int64"
      ]
     },
     "execution_count": 77,
     "metadata": {},
     "output_type": "execute_result"
    }
   ],
   "source": [
    "label_df.age_shift12.value_counts().iloc[:2]"
   ]
  },
  {
   "cell_type": "code",
   "execution_count": 80,
   "metadata": {},
   "outputs": [
    {
     "data": {
      "text/plain": [
       "1    21480\n",
       "0    17612\n",
       "2      626\n",
       "Name: age, dtype: int64"
      ]
     },
     "metadata": {},
     "output_type": "display_data"
    },
    {
     "data": {
      "text/plain": [
       "1    36531\n",
       "0     3169\n",
       "Name: age_shift10, dtype: int64"
      ]
     },
     "metadata": {},
     "output_type": "display_data"
    },
    {
     "data": {
      "text/plain": [
       "1    37274\n",
       "0     2426\n",
       "Name: age_shift01, dtype: int64"
      ]
     },
     "metadata": {},
     "output_type": "display_data"
    }
   ],
   "source": [
    "# count values of shifted pred vs. real attributes\n",
    "\n",
    "display(label_df.age.value_counts())\n",
    "\n",
    "#display(label_df.age_shift12.value_counts().iloc[:2])\n",
    "\n",
    "display(label_df.age_shift10.value_counts().iloc[:2])\n",
    "\n",
    "#display(label_df.age_shift21.value_counts().iloc[:2])\n",
    "\n",
    "display(label_df.age_shift01.value_counts().iloc[:2])\n",
    "\n",
    "#display(label_df.age_shift20.value_counts().iloc[:2])"
   ]
  },
  {
   "cell_type": "code",
   "execution_count": 79,
   "metadata": {},
   "outputs": [
    {
     "data": {
      "text/plain": [
       "0    25190\n",
       "1    14528\n",
       "Name: gender, dtype: int64"
      ]
     },
     "metadata": {},
     "output_type": "display_data"
    },
    {
     "data": {
      "text/plain": [
       "0    21391\n",
       "1    18309\n",
       "Name: gender_shift10, dtype: int64"
      ]
     },
     "metadata": {},
     "output_type": "display_data"
    }
   ],
   "source": [
    "display(label_df.gender.value_counts())\n",
    "\n",
    "display(label_df.gender_shift10.value_counts().iloc[:2])"
   ]
  },
  {
   "cell_type": "code",
   "execution_count": 66,
   "metadata": {
    "scrolled": true
   },
   "outputs": [
    {
     "name": "stdout",
     "output_type": "stream",
     "text": [
      "client_id\n",
      "accent\n",
      "age\n",
      "gender\n",
      "original_sentence\n",
      "sentence\n",
      "intervals\n",
      "useful_signal_proportions\n",
      "age_shift12\n",
      "age_shift10\n",
      "age_shift21\n",
      "age_shift01\n",
      "age_shift20\n",
      "gender_shift10\n"
     ]
    }
   ],
   "source": [
    "for col in label_df.columns:\n",
    "    if \"age\" in col:\n",
    "        pd.crosstab"
   ]
  },
  {
   "cell_type": "code",
   "execution_count": 70,
   "metadata": {},
   "outputs": [
    {
     "data": {
      "text/html": [
       "<div>\n",
       "<style scoped>\n",
       "    .dataframe tbody tr th:only-of-type {\n",
       "        vertical-align: middle;\n",
       "    }\n",
       "\n",
       "    .dataframe tbody tr th {\n",
       "        vertical-align: top;\n",
       "    }\n",
       "\n",
       "    .dataframe thead th {\n",
       "        text-align: right;\n",
       "    }\n",
       "</style>\n",
       "<table border=\"1\" class=\"dataframe\">\n",
       "  <thead>\n",
       "    <tr style=\"text-align: right;\">\n",
       "      <th>age_shift12</th>\n",
       "      <th>-1</th>\n",
       "      <th>0</th>\n",
       "      <th>1</th>\n",
       "    </tr>\n",
       "    <tr>\n",
       "      <th>age</th>\n",
       "      <th></th>\n",
       "      <th></th>\n",
       "      <th></th>\n",
       "    </tr>\n",
       "  </thead>\n",
       "  <tbody>\n",
       "    <tr>\n",
       "      <th>0</th>\n",
       "      <td>18</td>\n",
       "      <td>1438</td>\n",
       "      <td>16156</td>\n",
       "    </tr>\n",
       "    <tr>\n",
       "      <th>1</th>\n",
       "      <td>0</td>\n",
       "      <td>1686</td>\n",
       "      <td>19794</td>\n",
       "    </tr>\n",
       "    <tr>\n",
       "      <th>2</th>\n",
       "      <td>0</td>\n",
       "      <td>51</td>\n",
       "      <td>575</td>\n",
       "    </tr>\n",
       "  </tbody>\n",
       "</table>\n",
       "</div>"
      ],
      "text/plain": [
       "age_shift12  -1     0      1\n",
       "age                         \n",
       "0            18  1438  16156\n",
       "1             0  1686  19794\n",
       "2             0    51    575"
      ]
     },
     "execution_count": 70,
     "metadata": {},
     "output_type": "execute_result"
    }
   ],
   "source": [
    "pd.crosstab(label_df[\"age\"], label_df[\"age_shift12\"]).iloc[]"
   ]
  },
  {
   "cell_type": "code",
   "execution_count": 72,
   "metadata": {},
   "outputs": [
    {
     "data": {
      "text/html": [
       "<div>\n",
       "<style scoped>\n",
       "    .dataframe tbody tr th:only-of-type {\n",
       "        vertical-align: middle;\n",
       "    }\n",
       "\n",
       "    .dataframe tbody tr th {\n",
       "        vertical-align: top;\n",
       "    }\n",
       "\n",
       "    .dataframe thead th {\n",
       "        text-align: right;\n",
       "    }\n",
       "</style>\n",
       "<table border=\"1\" class=\"dataframe\">\n",
       "  <thead>\n",
       "    <tr style=\"text-align: right;\">\n",
       "      <th>gender_shift10</th>\n",
       "      <th>-1</th>\n",
       "      <th>0</th>\n",
       "      <th>1</th>\n",
       "    </tr>\n",
       "    <tr>\n",
       "      <th>gender</th>\n",
       "      <th></th>\n",
       "      <th></th>\n",
       "      <th></th>\n",
       "    </tr>\n",
       "  </thead>\n",
       "  <tbody>\n",
       "    <tr>\n",
       "      <th>0</th>\n",
       "      <td>18</td>\n",
       "      <td>13579</td>\n",
       "      <td>11593</td>\n",
       "    </tr>\n",
       "    <tr>\n",
       "      <th>1</th>\n",
       "      <td>0</td>\n",
       "      <td>7812</td>\n",
       "      <td>6716</td>\n",
       "    </tr>\n",
       "  </tbody>\n",
       "</table>\n",
       "</div>"
      ],
      "text/plain": [
       "gender_shift10  -1      0      1\n",
       "gender                          \n",
       "0               18  13579  11593\n",
       "1                0   7812   6716"
      ]
     },
     "execution_count": 72,
     "metadata": {},
     "output_type": "execute_result"
    }
   ],
   "source": [
    "pd.crosstab(label_df[\"gender\"], label_df[\"gender_shift10\"]).iloc[]"
   ]
  },
  {
   "cell_type": "code",
   "execution_count": 58,
   "metadata": {},
   "outputs": [],
   "source": []
  },
  {
   "cell_type": "code",
   "execution_count": 118,
   "metadata": {},
   "outputs": [],
   "source": [
    "# fichier incomplet : 'reconstruction_shifted_age12.pickle'\n",
    "# probleme : les ids de nos données ne sont pas uniques"
   ]
  }
 ],
 "metadata": {
  "kernelspec": {
   "display_name": "Python 3",
   "language": "python",
   "name": "python3"
  },
  "language_info": {
   "codemirror_mode": {
    "name": "ipython",
    "version": 3
   },
   "file_extension": ".py",
   "mimetype": "text/x-python",
   "name": "python",
   "nbconvert_exporter": "python",
   "pygments_lexer": "ipython3",
   "version": "3.6.9"
  }
 },
 "nbformat": 4,
 "nbformat_minor": 4
}
